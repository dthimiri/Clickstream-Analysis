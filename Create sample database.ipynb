{
 "cells": [
  {
   "cell_type": "code",
   "execution_count": 1,
   "metadata": {
    "collapsed": false,
    "scrolled": true
   },
   "outputs": [],
   "source": [
    "from __future__ import division\n",
    "import json\n",
    "import pandas as pd\n",
    "import re\n",
    "import unicodedata as uc\n",
    "import numpy as np\n",
    "import nltk\n",
    "import csv\n",
    "\n",
    "stop_words = nltk.corpus.stopwords.words('english')\n",
    "#print stop_words, type(stop_words)"
   ]
  },
  {
   "cell_type": "code",
   "execution_count": 2,
   "metadata": {
    "collapsed": false
   },
   "outputs": [],
   "source": [
    "##replace the file path in wiki_data with your input file path.\n",
    "wiki_data = open(\"C:/Users/Munira/Desktop/Research/Clickstream/2015_2_clickstream.tsv\", \"r\")\n",
    "##replace the file path in sampled_data with your output file path which will contain the first 1000 values.\n",
    "sampled_data = open(\"C:/Users/Munira/Desktop/Research/Clickstream/sample_data.csv\",\"wb\")\n",
    "with wiki_data as tsv_in, sampled_data as csv_out:\n",
    "    tsv_in = csv.reader(tsv_in, delimiter='\\t')\n",
    "    csv_out = csv.writer(csv_out)\n",
    "\n",
    "    num_rows=0\n",
    "    for row in tsv_in:\n",
    "        #print row\n",
    "        csv_out.writerows([row])\n",
    "        num_rows=num_rows + 1\n",
    "        #replace 1000 with the number of samples you want.\n",
    "        if(num_rows>=1000):\n",
    "            break"
   ]
  },
  {
   "cell_type": "code",
   "execution_count": null,
   "metadata": {
    "collapsed": true
   },
   "outputs": [],
   "source": []
  },
  {
   "cell_type": "code",
   "execution_count": null,
   "metadata": {
    "collapsed": true
   },
   "outputs": [],
   "source": []
  }
 ],
 "metadata": {
  "kernelspec": {
   "display_name": "Python 2",
   "language": "python",
   "name": "python2"
  },
  "language_info": {
   "codemirror_mode": {
    "name": "ipython",
    "version": 2
   },
   "file_extension": ".py",
   "mimetype": "text/x-python",
   "name": "python",
   "nbconvert_exporter": "python",
   "pygments_lexer": "ipython2",
   "version": "2.7.10"
  }
 },
 "nbformat": 4,
 "nbformat_minor": 0
}
