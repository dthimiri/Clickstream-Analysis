{
 "cells": [
  {
   "cell_type": "markdown",
   "metadata": {},
   "source": [
    "# Usage\n",
    "This series of tutorial notebooks is intended to be a collection of functions and processes to be run on typical clickstream datasets.\n",
    "\n",
    "# Contents:\n",
    "You can safely skip certain chapters of this tutorial. If something doesn't make sense, look to the cells above. If it still doesn't make sense, shoot me an angry (but descriptive) email- that usually makes me update this with clarifications.\n",
    "\n",
    "* List of lists data [Tutorial 1]\n",
    "    * Handling the data\n",
    "    * Most frequented pages\n",
    "    * Most frequent paths\n",
    "* Structured, tabulated data [Tutorial 2]\n",
    "* Focus on Video data [Tutorial 3] (can be extended to use cases in any similar form of online content)\n",
    "\n",
    "## Data Format(s)\n",
    "\n",
    "### List of content accessed\n",
    "Some datasets may be represented as a collection of clickstream pathways. We can still salvage meaningful information from these datasets. Here, each individual row corresponds to a separate session, and each element in the row represents a content ID. The order in which these content IDs are listed is typically the order in which they were accessed. This information may or may not be linked to other attributes like timestamps, user IDs, or other attributes like the richer dataset shown above:\n",
    "\n",
    "```\n",
    "10307 10311 12487\n",
    "12559\n",
    "12695 12703 18715\n",
    "10311 12387 12515 12691 12695 12699 12703 12823 12831 12847 18595 18679 18751\n",
    "...\n",
    "```\n",
    "\n",
    "### Structured data\n",
    "This notebook largely assumes that the data is organized roughly as below:\n",
    "\n",
    "|      date_time      | user_id | content_id |     attr1    |           attr2           |   attr3  | ... |\n",
    "|:-------------------:|:-------:|:----------:|:------------:|:-------------------------:|:--------:|:---:|\n",
    "| 2011-01-01 00:00:00 |  user_x |  webpage_i |  google.com  |    \"slick amazon deals\"   | Nebraska | ... |\n",
    "| 2011-01-01 00:10:00 |  user_y |  webpage_i | facebook.com | \"reddit photoshopbattles\" | New York | ... |\n",
    "\n",
    "\n",
    "If your click data is not in this format, you may consider pre-processing it into to this format. If you have a specific proprietary format that you would like to analyze using this code, feel free to contact me."
   ]
  },
  {
   "cell_type": "code",
   "execution_count": 1,
   "metadata": {
    "collapsed": false
   },
   "outputs": [],
   "source": [
    "#boilerplate imports\n",
    "import pandas as pd\n",
    "import numpy as np\n",
    "from collections import Counter\n",
    "import pprint"
   ]
  },
  {
   "cell_type": "code",
   "execution_count": 2,
   "metadata": {
    "collapsed": false
   },
   "outputs": [
    {
     "name": "stderr",
     "output_type": "stream",
     "text": [
      "C:\\Anaconda\\lib\\site-packages\\matplotlib\\__init__.py:872: UserWarning: axes.color_cycle is deprecated and replaced with axes.prop_cycle; please use the latter.\n",
      "  warnings.warn(self.msg_depr % (key, alt_key))\n"
     ]
    }
   ],
   "source": [
    "import seaborn as sns\n",
    "import matplotlib.pyplot as plt\n",
    "%matplotlib inline\n",
    "sns.set(color_codes=True)"
   ]
  },
  {
   "cell_type": "markdown",
   "metadata": {},
   "source": [
    "### Let's dive right in!\n",
    "The simplest form of data you'll encounter is the list of clicks. Here's an example of how to get started with the simplest use-case."
   ]
  },
  {
   "cell_type": "code",
   "execution_count": 3,
   "metadata": {
    "collapsed": false
   },
   "outputs": [],
   "source": [
    "#getting the data from a URL [can be made easier if you have a local copy]\n",
    "#data obtained from Philippe Fournier Viger's SPMF page. This is a KDD Cup 2000 dataset\n",
    "import urllib2\n",
    "target_url = \"http://www.philippe-fournier-viger.com/spmf/datasets/BMS1_itemset_mining.txt\"\n",
    "list_of_clicks = urllib2.urlopen(target_url).readlines()"
   ]
  },
  {
   "cell_type": "code",
   "execution_count": 4,
   "metadata": {
    "collapsed": false
   },
   "outputs": [
    {
     "name": "stdout",
     "output_type": "stream",
     "text": [
      "10307 -> 10311 -> 12487\n",
      "12559\n",
      "12695 -> 12703 -> 18715\n",
      "10311 -> 12387 -> 12515 -> 12691 -> 12695 -> 12699 -> 12703 -> 12823 -> 12831 -> 12847 -> 18595 -> 18679 -> 18751\n",
      "10291 -> 12523 -> 12531 -> 12535 -> 12883\n"
     ]
    }
   ],
   "source": [
    "#see what the data looks like\n",
    "for _line in list_of_clicks[:5]:\n",
    "    print \" -> \".join(_line.split())"
   ]
  },
  {
   "cell_type": "code",
   "execution_count": 5,
   "metadata": {
    "collapsed": false
   },
   "outputs": [],
   "source": [
    "#each line is a string, let's make it into a list exactly like we did when viewing it\n",
    "for _line_num in range(len(list_of_clicks)):\n",
    "    list_of_clicks[_line_num] = (list_of_clicks[_line_num]).split()"
   ]
  },
  {
   "cell_type": "code",
   "execution_count": 6,
   "metadata": {
    "collapsed": false
   },
   "outputs": [],
   "source": [
    "#let's find the most common pages accessed in the dataset\n",
    "#flatten the list of lists...\n",
    "import itertools\n",
    "flat_list_of_clicks = list(itertools.chain(*list_of_clicks))"
   ]
  },
  {
   "cell_type": "code",
   "execution_count": 7,
   "metadata": {
    "collapsed": false
   },
   "outputs": [],
   "source": [
    "most_common_cntr = Counter(flat_list_of_clicks).most_common(20)"
   ]
  },
  {
   "cell_type": "code",
   "execution_count": 8,
   "metadata": {
    "collapsed": false
   },
   "outputs": [
    {
     "data": {
      "image/png": "[encoded data removed]",
      "text/plain": [
       "<matplotlib.figure.Figure at 0xa597fd0>"
      ]
     },
     "metadata": {},
     "output_type": "display_data"
    }
   ],
   "source": [
    "sns.set_style(\"whitegrid\")\n",
    "ax = sns.barplot(x=[i[0] for i in most_common_cntr],y = [i[1] for i in most_common_cntr], color = 'blue')\n",
    "ax.set(xlabel = \"Frequently Accessed Page IDs\", ylabel = \"Count\", title = \"Most Commonly Accessed Pages\")\n",
    "for item in ax.get_xticklabels():\n",
    "    item.set_rotation(45)\n",
    "\n",
    "plt.show()"
   ]
  },
  {
   "cell_type": "markdown",
   "metadata": {},
   "source": [
    "Let's see what the overall distribution looks like:\n",
    "\n",
    "A large number of these pages were accessed a few times; unsurprisingly enough, very few were accessed very frequently"
   ]
  },
  {
   "cell_type": "code",
   "execution_count": 9,
   "metadata": {
    "collapsed": false
   },
   "outputs": [
    {
     "data": {
      "image/png": "[encoded data removed]",
      "text/plain": [
       "<matplotlib.figure.Figure at 0x1c609b38>"
      ]
     },
     "metadata": {},
     "output_type": "display_data"
    }
   ],
   "source": [
    "sns.set_style(\"whitegrid\")\n",
    "_sum_total = sum(Counter(flat_list_of_clicks).values()) #total number of accesses\n",
    "_plot_this = sorted([100*float(i)/_sum_total for i in Counter(flat_list_of_clicks).values()],reverse=True) \n",
    "# (times this content was accessed) / (# of times any content was accessed) \n",
    "plt.plot(_plot_this)\n",
    "plt.title(\"Distribution of # of times pages were accessed\")\n",
    "plt.xlabel(\"# of times page ID accessed\")\n",
    "plt.ylabel(\"Count (%)\")\n",
    "plt.show()"
   ]
  },
  {
   "cell_type": "markdown",
   "metadata": {},
   "source": [
    "## How do we get infer association rules from this?\n",
    "[TL/DR] : Run the cell below and skip to the code after it.\n",
    "\n",
    "Feel free to look at the finer details of the apriori code if you really want to know what's going on under the hood"
   ]
  },
  {
   "cell_type": "code",
   "execution_count": 10,
   "metadata": {
    "collapsed": true
   },
   "outputs": [],
   "source": [
    "# (c) 2014 Everaldo Aguiar & Reid Johnson\n",
    "#\n",
    "# Modified from:\n",
    "# Marcel Caraciolo (https://gist.github.com/marcelcaraciolo/1423287)\n",
    "#\n",
    "# Functions to compute and extract association rules from a given frequent \n",
    "# itemset generated by the Apriori algorithm.\n",
    "\n",
    "def apriori(dataset, min_support=0.5, verbose=False):\n",
    "    \"\"\"Implements the Apriori algorithm.\n",
    "\n",
    "    The Apriori algorithm will iteratively generate new candidate \n",
    "    k-itemsets using the frequent (k-1)-itemsets found in the previous \n",
    "    iteration.\n",
    "\n",
    "    Parameters\n",
    "    ----------\n",
    "    dataset : list\n",
    "        The dataset (a list of transactions) from which to generate \n",
    "        candidate itemsets.\n",
    "\n",
    "    min_support : float\n",
    "        The minimum support threshold. Defaults to 0.5.\n",
    "\n",
    "    Returns\n",
    "    -------\n",
    "    F : list\n",
    "        The list of frequent itemsets.\n",
    "\n",
    "    support_data : dict\n",
    "        The support data for all candidate itemsets.\n",
    "\n",
    "    References\n",
    "    ----------\n",
    "    .. [1] R. Agrawal, R. Srikant, \"Fast Algorithms for Mining Association \n",
    "           Rules\", 1994.\n",
    "\n",
    "    \"\"\"\n",
    "    C1 = create_candidates(dataset)\n",
    "    D = map(set, dataset)\n",
    "    F1, support_data = support_prune(D, C1, min_support, verbose=False) # prune candidate 1-itemsets\n",
    "    F = [F1] # list of frequent itemsets; initialized to frequent 1-itemsets\n",
    "    k = 2 # the itemset cardinality\n",
    "    while (len(F[k - 2]) > 0):\n",
    "        Ck = apriori_gen(F[k-2], k) # generate candidate itemsets\n",
    "        Fk, supK = support_prune(D, Ck, min_support) # prune candidate itemsets\n",
    "        support_data.update(supK) # update the support counts to reflect pruning\n",
    "        F.append(Fk) # add the pruned candidate itemsets to the list of frequent itemsets\n",
    "        k += 1\n",
    "\n",
    "    if verbose:\n",
    "        # Print a list of all the frequent itemsets.\n",
    "        for kset in F:\n",
    "            for item in kset:\n",
    "                print(\"\" \\\n",
    "                    + \"{\" \\\n",
    "                    + \"\".join(str(i) + \", \" for i in iter(item)).rstrip(', ') \\\n",
    "                    + \"}\" \\\n",
    "                    + \":  sup = \" + str(round(support_data[item], 3)))\n",
    "\n",
    "    return F, support_data\n",
    "\n",
    "def create_candidates(dataset, verbose=False):\n",
    "    \"\"\"Creates a list of candidate 1-itemsets from a list of transactions.\n",
    "\n",
    "    Parameters\n",
    "    ----------\n",
    "    dataset : list\n",
    "        The dataset (a list of transactions) from which to generate candidate \n",
    "        itemsets.\n",
    "\n",
    "    Returns\n",
    "    -------\n",
    "    The list of candidate itemsets (c1) passed as a frozenset (a set that is \n",
    "    immutable and hashable).\n",
    "    \"\"\"\n",
    "    c1 = [] # list of all items in the database of transactions\n",
    "    for transaction in dataset:\n",
    "        for item in transaction:\n",
    "            if not [item] in c1:\n",
    "                c1.append([item])\n",
    "    c1.sort()\n",
    "\n",
    "    if verbose:\n",
    "        # Print a list of all the candidate items.\n",
    "        print(\"\" \\\n",
    "            + \"{\" \\\n",
    "            + \"\".join(str(i[0]) + \", \" for i in iter(c1)).rstrip(', ') \\\n",
    "            + \"}\")\n",
    "\n",
    "    # Map c1 to a frozenset because it will be the key of a dictionary.\n",
    "    return map(frozenset, c1)\n",
    "\n",
    "def support_prune(dataset, candidates, min_support, verbose=False):\n",
    "    \"\"\"Returns all candidate itemsets that meet a minimum support threshold.\n",
    "\n",
    "    By the apriori principle, if an itemset is frequent, then all of its \n",
    "    subsets must also be frequent. As a result, we can perform support-based \n",
    "    pruning to systematically control the exponential growth of candidate \n",
    "    itemsets. Thus, itemsets that do not meet the minimum support level are \n",
    "    pruned from the input list of itemsets (dataset).\n",
    "\n",
    "    Parameters\n",
    "    ----------\n",
    "    dataset : list\n",
    "        The dataset (a list of transactions) from which to generate candidate \n",
    "        itemsets.\n",
    "\n",
    "    candidates : frozenset\n",
    "        The list of candidate itemsets.\n",
    "\n",
    "    min_support : float\n",
    "        The minimum support threshold.\n",
    "\n",
    "    Returns\n",
    "    -------\n",
    "    retlist : list\n",
    "        The list of frequent itemsets.\n",
    "\n",
    "    support_data : dict\n",
    "        The support data for all candidate itemsets.\n",
    "    \"\"\"\n",
    "    sscnt = {} # set for support counts\n",
    "    for tid in dataset:\n",
    "        for can in candidates:\n",
    "            if can.issubset(tid):\n",
    "                sscnt.setdefault(can, 0)\n",
    "                sscnt[can] += 1\n",
    "\n",
    "    num_items = float(len(dataset)) # total number of transactions in the dataset\n",
    "    retlist = [] # array for unpruned itemsets\n",
    "    support_data = {} # set for support data for corresponding itemsets\n",
    "    for key in sscnt:\n",
    "        # Calculate the support of itemset key.\n",
    "        support = sscnt[key] / num_items\n",
    "        if support >= min_support:\n",
    "            retlist.insert(0, key)\n",
    "        support_data[key] = support\n",
    "\n",
    "    # Print a list of the pruned itemsets.\n",
    "    if verbose:\n",
    "        for kset in retlist:\n",
    "            for item in kset:\n",
    "                print(\"{\" + str(item) + \"}\")\n",
    "        print(\"\")\n",
    "        for key in sscnt:\n",
    "            print(\"\" \\\n",
    "                + \"{\" \\\n",
    "                + \"\".join([str(i) + \", \" for i in iter(key)]).rstrip(', ') \\\n",
    "                + \"}\" \\\n",
    "                + \":  sup = \" + str(support_data[key]))\n",
    "\n",
    "    return retlist, support_data\n",
    "\n",
    "def apriori_gen(freq_sets, k):\n",
    "    \"\"\"Generates candidate itemsets (via the F_k-1 x F_k-1 method).\n",
    "\n",
    "    This operation generates new candidate k-itemsets based on the frequent \n",
    "    (k-1)-itemsets found in the previous iteration. The candidate generation \n",
    "    procedure merges a pair of frequent (k-1)-itemsets only if their first k-2 \n",
    "    items are identical.\n",
    "\n",
    "    Parameters\n",
    "    ----------\n",
    "    freq_sets : list\n",
    "        The list of frequent (k-1)-itemsets.\n",
    "\n",
    "    k : integer\n",
    "        The cardinality of the current itemsets being evaluated.\n",
    "\n",
    "    Returns\n",
    "    -------\n",
    "    retlist : list\n",
    "        The list of merged frequent itemsets.\n",
    "    \"\"\"\n",
    "    retList = [] # list of merged frequent itemsets\n",
    "    lenLk = len(freq_sets) # number of frequent itemsets\n",
    "    for i in range(lenLk):\n",
    "        for j in range(i+1, lenLk):\n",
    "            a=list(freq_sets[i])\n",
    "            b=list(freq_sets[j])\n",
    "            a.sort()\n",
    "            b.sort()\n",
    "            F1 = a[:k-2] # first k-2 items of freq_sets[i]\n",
    "            F2 = b[:k-2] # first k-2 items of freq_sets[j]\n",
    "\n",
    "            if F1 == F2: # if the first k-2 items are identical\n",
    "                # Merge the frequent itemsets.\n",
    "                retList.append(freq_sets[i] | freq_sets[j])\n",
    "\n",
    "    return retList\n",
    "\n",
    "def rules_from_conseq(freq_set, H, support_data, rules, min_confidence=0.5, verbose=False):\n",
    "    \"\"\"Generates a set of candidate rules.\n",
    "\n",
    "    Parameters\n",
    "    ----------\n",
    "    freq_set : frozenset\n",
    "        The complete list of frequent itemsets.\n",
    "\n",
    "    H : list\n",
    "        A list of frequent itemsets (of a particular length).\n",
    "\n",
    "    support_data : dict\n",
    "        The support data for all candidate itemsets.\n",
    "\n",
    "    rules : list\n",
    "        A potentially incomplete set of candidate rules above the minimum \n",
    "        confidence threshold.\n",
    "\n",
    "    min_confidence : float\n",
    "        The minimum confidence threshold. Defaults to 0.5.\n",
    "    \"\"\"\n",
    "    m = len(H[0])\n",
    "    if m == 1:\n",
    "        Hmp1 = calc_confidence(freq_set, H, support_data, rules, min_confidence, verbose)\n",
    "    if (len(freq_set) > (m+1)):\n",
    "        Hmp1 = apriori_gen(H, m+1) # generate candidate itemsets\n",
    "        Hmp1 = calc_confidence(freq_set, Hmp1, support_data, rules, min_confidence, verbose)\n",
    "        if len(Hmp1) > 1:\n",
    "            # If there are candidate rules above the minimum confidence \n",
    "            # threshold, recurse on the list of these candidate rules.\n",
    "            rules_from_conseq(freq_set, Hmp1, support_data, rules, min_confidence, verbose)\n",
    "\n",
    "def calc_confidence(freq_set, H, support_data, rules, min_confidence=0.5, verbose=False):\n",
    "    \"\"\"Evaluates the generated rules.\n",
    "\n",
    "    One measurement for quantifying the goodness of association rules is \n",
    "    confidence. The confidence for a rule 'P implies H' (P -> H) is defined as \n",
    "    the support for P and H divided by the support for P \n",
    "    (support (P|H) / support(P)), where the | symbol denotes the set union \n",
    "    (thus P|H means all the items in set P or in set H).\n",
    "\n",
    "    To calculate the confidence, we iterate through the frequent itemsets and \n",
    "    associated support data. For each frequent itemset, we divide the support \n",
    "    of the itemset by the support of the antecedent (left-hand-side of the \n",
    "    rule).\n",
    "\n",
    "    Parameters\n",
    "    ----------\n",
    "    freq_set : frozenset\n",
    "        The complete list of frequent itemsets.\n",
    "\n",
    "    H : list\n",
    "        A list of frequent itemsets (of a particular length).\n",
    "\n",
    "    min_support : float\n",
    "        The minimum support threshold.\n",
    "\n",
    "    rules : list\n",
    "        A potentially incomplete set of candidate rules above the minimum \n",
    "        confidence threshold.\n",
    "\n",
    "    min_confidence : float\n",
    "        The minimum confidence threshold. Defaults to 0.5.\n",
    "\n",
    "    Returns\n",
    "    -------\n",
    "    pruned_H : list\n",
    "        The list of candidate rules above the minimum confidence threshold.\n",
    "    \"\"\"\n",
    "    pruned_H = [] # list of candidate rules above the minimum confidence threshold\n",
    "    for conseq in H: # iterate over the frequent itemsets\n",
    "        conf = support_data[freq_set] / support_data[freq_set - conseq]\n",
    "        if conf >= min_confidence:\n",
    "            rules.append((freq_set - conseq, conseq, conf))\n",
    "            pruned_H.append(conseq)\n",
    "\n",
    "            if verbose:\n",
    "                print(\"\" \\\n",
    "                    + \"{\" \\\n",
    "                    + \"\".join([str(i) + \", \" for i in iter(freq_set-conseq)]).rstrip(', ') \\\n",
    "                    + \"}\" \\\n",
    "                    + \" ---> \" \\\n",
    "                    + \"{\" \\\n",
    "                    + \"\".join([str(i) + \", \" for i in iter(conseq)]).rstrip(', ') \\\n",
    "                    + \"}\" \\\n",
    "                    + \":  conf = \" + str(round(conf, 3)) \\\n",
    "                    + \", sup = \" + str(round(support_data[freq_set], 3)))\n",
    "\n",
    "    return pruned_H\n",
    "\n",
    "def generate_rules(F, support_data, min_confidence=0.5, verbose=True):\n",
    "    \"\"\"Generates a set of candidate rules from a list of frequent itemsets.\n",
    "\n",
    "    For each frequent itemset, we calculate the confidence of using a\n",
    "    particular item as the rule consequent (right-hand-side of the rule). By \n",
    "    testing and merging the remaining rules, we recursively create a list of \n",
    "    pruned rules.\n",
    "\n",
    "    Parameters\n",
    "    ----------\n",
    "    F : list\n",
    "        A list of frequent itemsets.\n",
    "\n",
    "    support_data : dict\n",
    "        The corresponding support data for the frequent itemsets (L).\n",
    "\n",
    "    min_confidence : float\n",
    "        The minimum confidence threshold. Defaults to 0.5.\n",
    "\n",
    "    Returns\n",
    "    -------\n",
    "    rules : list\n",
    "        The list of candidate rules above the minimum confidence threshold.\n",
    "    \"\"\"\n",
    "    rules = []\n",
    "    for i in range(1, len(F)):\n",
    "        for freq_set in F[i]:\n",
    "            H1 = [frozenset([itemset]) for itemset in freq_set]\n",
    "            if (i > 1):\n",
    "                rules_from_conseq(freq_set, H1, support_data, rules, min_confidence, verbose)\n",
    "            else:\n",
    "                calc_confidence(freq_set, H1, support_data, rules, min_confidence, verbose)\n",
    "\n",
    "    return rules"
   ]
  },
  {
   "cell_type": "markdown",
   "metadata": {},
   "source": [
    "## Parameter Estimation\n",
    "\n",
    "We don't know what the best support and confidence values are for this unknown dataset. We experiment around with a bunch of values and pick a nice knee-point."
   ]
  },
  {
   "cell_type": "code",
   "execution_count": 19,
   "metadata": {
    "collapsed": false,
    "scrolled": true
   },
   "outputs": [
    {
     "name": "stdout",
     "output_type": "stream",
     "text": [
      "Minimum support:  0.0078125 \t#items: 3 \titemset length: 4883\n",
      "Minimum support:  0.015625 \t#items: 3 \titemset length: 993\n",
      "Minimum support:  0.03125 \t#items: 2 \titemset length: 542\n",
      "Minimum support:  0.0625 \t#items: 1 \titemset length: 497\n",
      "Minimum support:  0.125 \t#items: 1 \titemset length: 497\n",
      "Minimum support:  0.25 \t#items: 1 \titemset length: 497\n"
     ]
    }
   ],
   "source": [
    "freq_item_len = []\n",
    "freq_itemset_len = []\n",
    "for minsup in [2**i for i in range(-7,-1)]:\n",
    "    F, support_data = apriori(list_of_clicks, min_support=minsup, verbose=False)\n",
    "    freq_item_len.append(len(F))\n",
    "    freq_itemset_len.append(len(support_data))\n",
    "    print \"Minimum support: \", minsup, \"\\t#items:\", len(F), \"\\titemset length:\", len(support_data)"
   ]
  },
  {
   "cell_type": "code",
   "execution_count": 23,
   "metadata": {
    "collapsed": false
   },
   "outputs": [
    {
     "data": {
      "image/png": "[encoded data removed]",
      "text/plain": [
       "<matplotlib.figure.Figure at 0x21412ac8>"
      ]
     },
     "metadata": {},
     "output_type": "display_data"
    }
   ],
   "source": [
    "plt.loglog([2**i for i in range(-7,-1)],freq_itemset_len, basex = 2, basey = 10, marker='o')\n",
    "plt.xlabel(\"Minimum Support\")\n",
    "plt.ylabel(\"# of frequent itemsets\")\n",
    "plt.show()"
   ]
  },
  {
   "cell_type": "markdown",
   "metadata": {},
   "source": [
    "based on this plot, let's use $2^{-7}$, i.e. 0.78125% as the minimum support. \n",
    "\n",
    "Ideally, you would want to use the knee point, but I'm trying to make this a rudimentary example."
   ]
  },
  {
   "cell_type": "code",
   "execution_count": 13,
   "metadata": {
    "collapsed": false,
    "scrolled": true
   },
   "outputs": [
    {
     "name": "stdout",
     "output_type": "stream",
     "text": [
      "{20807}:  sup = 0.008\n",
      "{12627}:  sup = 0.013\n",
      "{12679}:  sup = 0.03\n",
      "{12807}:  sup = 0.01\n",
      "{12355}:  sup = 0.018\n",
      "{12847}:  sup = 0.008\n",
      "{10331}:  sup = 0.012\n",
      "{33429}:  sup = 0.01\n",
      "{12747}:  sup = 0.009\n",
      "{47957}:  sup = 0.011\n",
      "{12575}:  sup = 0.008\n",
      "{12463}:  sup = 0.013\n",
      "{34905}:  sup = 0.012\n",
      "{12467}:  sup = 0.008\n",
      "{12603}:  sup = 0.011\n",
      "{12547}:  sup = 0.008\n",
      "{12567}:  sup = 0.015\n",
      "{12551}:  sup = 0.009\n",
      "{12695}:  sup = 0.024\n",
      "{33433}:  sup = 0.015\n",
      "{12827}:  sup = 0.017\n",
      "{33449}:  sup = 0.061\n",
      "{47953}:  sup = 0.009\n",
      "{18691}:  sup = 0.008\n",
      "{12703}:  sup = 0.033\n",
      "{12835}:  sup = 0.009\n",
      "{18787}:  sup = 0.012\n",
      "{12683}:  sup = 0.013\n",
      "{32213}:  sup = 0.027\n",
      "{12411}:  sup = 0.013\n",
      "{12571}:  sup = 0.011\n",
      "{12663}:  sup = 0.03\n",
      "{12883}:  sup = 0.008\n",
      "{12815}:  sup = 0.012\n",
      "{12779}:  sup = 0.013\n",
      "{12823}:  sup = 0.01\n",
      "{12487}:  sup = 0.038\n",
      "{12667}:  sup = 0.01\n",
      "{12783}:  sup = 0.016\n",
      "{12555}:  sup = 0.008\n",
      "{10861}:  sup = 0.008\n",
      "{12299}:  sup = 0.009\n",
      "{12715}:  sup = 0.02\n",
      "{12723}:  sup = 0.021\n",
      "{10299}:  sup = 0.012\n",
      "{48675}:  sup = 0.01\n",
      "{35185}:  sup = 0.011\n",
      "{10315}:  sup = 0.058\n",
      "{12479}:  sup = 0.012\n",
      "{12407}:  sup = 0.013\n",
      "{12751}:  sup = 0.017\n",
      "{12431}:  sup = 0.02\n",
      "{12611}:  sup = 0.01\n",
      "{12339}:  sup = 0.015\n",
      "{12795}:  sup = 0.015\n",
      "{33469}:  sup = 0.061\n",
      "{10291}:  sup = 0.008\n",
      "{12655}:  sup = 0.013\n",
      "{12675}:  sup = 0.009\n",
      "{12755}:  sup = 0.011\n",
      "{12867}:  sup = 0.008\n",
      "{12895}:  sup = 0.061\n",
      "{12771}:  sup = 0.011\n",
      "{47949}:  sup = 0.009\n",
      "{32209}:  sup = 0.009\n",
      "{12559}:  sup = 0.018\n",
      "{10295}:  sup = 0.034\n",
      "{12727}:  sup = 0.008\n",
      "{12875}:  sup = 0.023\n",
      "{12819}:  sup = 0.019\n",
      "{12495}:  sup = 0.009\n",
      "{32205}:  sup = 0.015\n",
      "{12691}:  sup = 0.017\n",
      "{12687}:  sup = 0.012\n",
      "{47945}:  sup = 0.01\n",
      "{12831}:  sup = 0.02\n",
      "{10311}:  sup = 0.04\n",
      "{18863}:  sup = 0.014\n",
      "{12659}:  sup = 0.017\n",
      "{34885}:  sup = 0.016\n",
      "{10335}:  sup = 0.02\n",
      "{12621}:  sup = 0.025\n",
      "{10307}:  sup = 0.047\n",
      "{34901}:  sup = 0.01\n",
      "{12759}:  sup = 0.014\n",
      "{34889}:  sup = 0.013\n",
      "{12763}:  sup = 0.012\n",
      "{12711}:  sup = 0.009\n",
      "{12483}:  sup = 0.034\n",
      "{34893}:  sup = 0.02\n",
      "{10877}:  sup = 0.023\n",
      "{33453}:  sup = 0.011\n",
      "{34897}:  sup = 0.011\n",
      "{48667}:  sup = 0.008\n",
      "{32201}:  sup = 0.01\n",
      "{10311, 12483}:  sup = 0.008\n",
      "{12703, 12487}:  sup = 0.011\n",
      "{12695, 12703}:  sup = 0.01\n",
      "{12895, 12827}:  sup = 0.01\n",
      "{10295, 10311}:  sup = 0.012\n",
      "{10311, 12703}:  sup = 0.01\n",
      "{33449, 33469}:  sup = 0.02\n",
      "{12703, 32213}:  sup = 0.01\n",
      "{33433, 33469}:  sup = 0.009\n",
      "{10311, 12487}:  sup = 0.01\n",
      "{10295, 10307}:  sup = 0.015\n",
      "{12483, 12487}:  sup = 0.015\n",
      "{12815, 12895}:  sup = 0.009\n",
      "{10311, 10315}:  sup = 0.013\n",
      "{10307, 10315}:  sup = 0.008\n",
      "{10295, 10315}:  sup = 0.012\n",
      "{10307, 10311}:  sup = 0.01\n",
      "{12487, 32213}:  sup = 0.008\n"
     ]
    }
   ],
   "source": [
    "F, support_data = apriori(list_of_clicks, min_support=2**(-7), verbose=True)"
   ]
  },
  {
   "cell_type": "markdown",
   "metadata": {},
   "source": [
    "# Generating rules for browsing patterns\n",
    "The whole idea of doing this was to find out if we could identify patterns in browsing. In this section of the code, we use frequent itemset mining, which is agnostic of the actual path taken. \n",
    "\n",
    "\n",
    "### How to read these rules:\n",
    "Here we get rules which resemble the output below: \n",
    "```\n",
    "{A, B, C} ---> {X} : conf = something, sup = something_else \n",
    "```\n",
    "*Browsing A, B and C is related to **also**  browsing X*, with the displayed confidence and support.\n",
    "\n",
    "We will deal with the path-aware approach that in the section on **sequence mining**."
   ]
  },
  {
   "cell_type": "code",
   "execution_count": 15,
   "metadata": {
    "collapsed": false,
    "scrolled": false
   },
   "outputs": [
    {
     "name": "stdout",
     "output_type": "stream",
     "text": [
      "{12487} ---> {12703}:  conf = 0.278, sup = 0.011\n",
      "{12703} ---> {12487}:  conf = 0.324, sup = 0.011\n",
      "{12703} ---> {12695}:  conf = 0.316, sup = 0.01\n",
      "{12695} ---> {12703}:  conf = 0.432, sup = 0.01\n",
      "{12827} ---> {12895}:  conf = 0.58, sup = 0.01\n",
      "{10311} ---> {10295}:  conf = 0.311, sup = 0.012\n",
      "{10295} ---> {10311}:  conf = 0.367, sup = 0.012\n",
      "{12703} ---> {10311}:  conf = 0.296, sup = 0.01\n",
      "{33469} ---> {33449}:  conf = 0.333, sup = 0.02\n",
      "{33449} ---> {33469}:  conf = 0.329, sup = 0.02\n",
      "{32213} ---> {12703}:  conf = 0.353, sup = 0.01\n",
      "{12703} ---> {32213}:  conf = 0.293, sup = 0.01\n",
      "{33433} ---> {33469}:  conf = 0.571, sup = 0.009\n",
      "{12487} ---> {10311}:  conf = 0.271, sup = 0.01\n",
      "{10311} ---> {12487}:  conf = 0.259, sup = 0.01\n",
      "{10307} ---> {10295}:  conf = 0.327, sup = 0.015\n",
      "{10295} ---> {10307}:  conf = 0.456, sup = 0.015\n",
      "{12487} ---> {12483}:  conf = 0.387, sup = 0.015\n",
      "{12483} ---> {12487}:  conf = 0.428, sup = 0.015\n",
      "{12815} ---> {12895}:  conf = 0.784, sup = 0.009\n",
      "{10311} ---> {10315}:  conf = 0.325, sup = 0.013\n",
      "{10295} ---> {10315}:  conf = 0.359, sup = 0.012\n",
      "{10311} ---> {10307}:  conf = 0.262, sup = 0.01\n",
      "{32213} ---> {12487}:  conf = 0.313, sup = 0.008\n"
     ]
    }
   ],
   "source": [
    "H = generate_rules(F, support_data, min_confidence=0.25, verbose=True)"
   ]
  },
  {
   "cell_type": "markdown",
   "metadata": {},
   "source": [
    "Increasing the value of minimum confidence increases the strictness of bounds we expect of the bounds. \n",
    "Naturally, relaxing this bound will result in less strict rules being displayed"
   ]
  },
  {
   "cell_type": "code",
   "execution_count": 16,
   "metadata": {
    "collapsed": false
   },
   "outputs": [
    {
     "name": "stdout",
     "output_type": "stream",
     "text": [
      "{12827} ---> {12895}:  conf = 0.58, sup = 0.01\n",
      "{33433} ---> {33469}:  conf = 0.571, sup = 0.009\n",
      "{12815} ---> {12895}:  conf = 0.784, sup = 0.009\n"
     ]
    }
   ],
   "source": [
    "H = generate_rules(F, support_data, min_confidence=0.5, verbose=True)"
   ]
  }
 ],
 "metadata": {
  "kernelspec": {
   "display_name": "Python 2",
   "language": "python",
   "name": "python2"
  },
  "language_info": {
   "codemirror_mode": {
    "name": "ipython",
    "version": 2
   },
   "file_extension": ".py",
   "mimetype": "text/x-python",
   "name": "python",
   "nbconvert_exporter": "python",
   "pygments_lexer": "ipython2",
   "version": "2.7.11"
  }
 },
 "nbformat": 4,
 "nbformat_minor": 0
}
