{
 "cells": [
  {
   "cell_type": "markdown",
   "metadata": {},
   "source": [
    "#Usage\n",
    "This notebook is intended to be a collection of functions and processes to be run on typical clickstream datasets. \n",
    "\n",
    "##Data Format(s)\n",
    "\n",
    "###Structured data\n",
    "This notebook largely assumes that the data is organized roughly as below:\n",
    "\n",
    "|      date_time      | user_id | content_id |     attr1    |           attr2           |   attr3  | ... |\n",
    "|:-------------------:|:-------:|:----------:|:------------:|:-------------------------:|:--------:|:---:|\n",
    "| 2011-01-01 00:00:00 |  user_x |  webpage_i |  google.com  |    \"slick amazon deals\"   | Nebraska | ... |\n",
    "| 2011-01-01 00:10:00 |  user_y |  webpage_i | facebook.com | \"reddit photoshopbattles\" | New York | ... |\n",
    "\n",
    "\n",
    "###List of content accessed\n",
    "Some datasets may also be a collection of clickstream pathways, and that's fine too! We can still salvage meaningful information from these datasets. Here, each individual row corresponds to a separate session, and each element in the row represents a content ID. The order in which these content IDs are listed is typically the order in which they were accessed. This information may or may not be linked to other attributes like timestamps, user IDs, or other attributes like the richer dataset shown above:\n",
    "\n",
    "```\n",
    "10307 10311 12487\n",
    "12559\n",
    "12695 12703 18715\n",
    "10311 12387 12515 12691 12695 12699 12703 12823 12831 12847 18595 18679 18751\n",
    "...\n",
    "```\n",
    "\n",
    "If your click data is not in this format, you may consider pre-processing it into to this format. If you have a specific proprietary format that you would like to analyze using this code, feel free to contact me."
   ]
  },
  {
   "cell_type": "code",
   "execution_count": 2,
   "metadata": {
    "collapsed": false
   },
   "outputs": [],
   "source": [
    "#boilerplate imports\n",
    "import pandas as pd\n",
    "import numpy as np\n",
    "from collections import Counter\n",
    "from bokeh.plotting import figure, output_file, show\n",
    "from bokeh.io import output_notebook"
   ]
  },
  {
   "cell_type": "code",
   "execution_count": 3,
   "metadata": {
    "collapsed": false
   },
   "outputs": [
    {
     "data": {
      "text/html": [
       "\n",
       "\n",
       "    <script type=\"text/javascript\">\n",
       "      \n",
       "      (function(global) {\n",
       "        function now() {\n",
       "          return new Date();\n",
       "        }\n",
       "      \n",
       "        if (typeof (window._bokeh_onload_callbacks) === \"undefined\") {\n",
       "          window._bokeh_onload_callbacks = [];\n",
       "        }\n",
       "      \n",
       "        function run_callbacks() {\n",
       "          window._bokeh_onload_callbacks.forEach(function(callback) { callback() });\n",
       "          delete window._bokeh_onload_callbacks\n",
       "          console.info(\"Bokeh: all callbacks have finished\");\n",
       "        }\n",
       "      \n",
       "        function load_libs(js_urls, callback) {\n",
       "          window._bokeh_onload_callbacks.push(callback);\n",
       "          if (window._bokeh_is_loading > 0) {\n",
       "            console.log(\"Bokeh: BokehJS is being loaded, scheduling callback at\", now());\n",
       "            return null;\n",
       "          }\n",
       "          if (js_urls == null || js_urls.length === 0) {\n",
       "            run_callbacks();\n",
       "            return null;\n",
       "          }\n",
       "          console.log(\"Bokeh: BokehJS not loaded, scheduling load and callback at\", now());\n",
       "          window._bokeh_is_loading = js_urls.length;\n",
       "          for (var i = 0; i < js_urls.length; i++) {\n",
       "            var url = js_urls[i];\n",
       "            var s = document.createElement('script');\n",
       "            s.src = url;\n",
       "            s.async = false;\n",
       "            s.onreadystatechange = s.onload = function() {\n",
       "              window._bokeh_is_loading--;\n",
       "              if (window._bokeh_is_loading === 0) {\n",
       "                console.log(\"Bokeh: all BokehJS libraries loaded\");\n",
       "                run_callbacks()\n",
       "              }\n",
       "            };\n",
       "            s.onerror = function() {\n",
       "              console.warn(\"failed to load library \" + url);\n",
       "            };\n",
       "            console.log(\"Bokeh: injecting script tag for BokehJS library: \", url);\n",
       "            document.getElementsByTagName(\"head\")[0].appendChild(s);\n",
       "          }\n",
       "        };var js_urls = ['https://cdn.pydata.org/bokeh/release/bokeh-0.11.0.min.js', 'https://cdn.pydata.org/bokeh/release/bokeh-widgets-0.11.0.min.js', 'https://cdn.pydata.org/bokeh/release/bokeh-compiler-0.11.0.min.js'];\n",
       "      \n",
       "        var inline_js = [\n",
       "          function(Bokeh) {\n",
       "            Bokeh.set_log_level(\"info\");\n",
       "          },\n",
       "          function(Bokeh) {\n",
       "            console.log(\"Bokeh: injecting CSS: https://cdn.pydata.org/bokeh/release/bokeh-0.11.0.min.css\");\n",
       "            Bokeh.embed.inject_css(\"https://cdn.pydata.org/bokeh/release/bokeh-0.11.0.min.css\");\n",
       "            console.log(\"Bokeh: injecting CSS: https://cdn.pydata.org/bokeh/release/bokeh-widgets-0.11.0.min.css\");\n",
       "            Bokeh.embed.inject_css(\"https://cdn.pydata.org/bokeh/release/bokeh-widgets-0.11.0.min.css\");\n",
       "          }\n",
       "        ];\n",
       "      \n",
       "        function run_inline_js() {\n",
       "          for (var i = 0; i < inline_js.length; i++) {\n",
       "            inline_js[i](window.Bokeh);\n",
       "          }\n",
       "        }\n",
       "      \n",
       "        if (window._bokeh_is_loading === 0) {\n",
       "          console.log(\"Bokeh: BokehJS loaded, going straight to plotting\");\n",
       "          run_inline_js();\n",
       "        } else {\n",
       "          load_libs(js_urls, function() {\n",
       "            console.log(\"Bokeh: BokehJS plotting callback run at\", now());\n",
       "            run_inline_js();\n",
       "          });\n",
       "        }\n",
       "      }(this));\n",
       "    </script>\n",
       "    <div>\n",
       "        <a href=\"http://bokeh.pydata.org\" target=\"_blank\" class=\"bk-logo bk-logo-small bk-logo-notebook\"></a>\n",
       "        <span>BokehJS successfully loaded.</span>\n",
       "    </div>"
      ]
     },
     "metadata": {},
     "output_type": "display_data"
    }
   ],
   "source": [
    "output_notebook()"
   ]
  },
  {
   "cell_type": "markdown",
   "metadata": {},
   "source": [
    "###Let's dive right in!\n",
    "The simplest form of data you'll encounter is the list of clicks. Here's an example of how to get started with the simplest use-case."
   ]
  },
  {
   "cell_type": "code",
   "execution_count": 14,
   "metadata": {
    "collapsed": false
   },
   "outputs": [],
   "source": [
    "#getting the data from a URL [can be made easier if you have a local copy]\n",
    "#data obtained from Philippe Fournier Viger's SPMF page. This is a KDD Cup 2000 dataset\n",
    "import urllib2\n",
    "target_url = \"http://www.philippe-fournier-viger.com/spmf/datasets/BMS1_itemset_mining.txt\"\n",
    "list_of_clicks = urllib2.urlopen(target_url).readlines()"
   ]
  },
  {
   "cell_type": "code",
   "execution_count": 20,
   "metadata": {
    "collapsed": false
   },
   "outputs": [
    {
     "name": "stdout",
     "output_type": "stream",
     "text": [
      "10307 -> 10311 -> 12487\n",
      "12559\n",
      "12695 -> 12703 -> 18715\n",
      "10311 -> 12387 -> 12515 -> 12691 -> 12695 -> 12699 -> 12703 -> 12823 -> 12831 -> 12847 -> 18595 -> 18679 -> 18751\n",
      "10291 -> 12523 -> 12531 -> 12535 -> 12883\n"
     ]
    }
   ],
   "source": [
    "#see what the data looks like\n",
    "for _line in list_of_clicks[:5]:\n",
    "    print \" -> \".join(_line.split())"
   ]
  },
  {
   "cell_type": "code",
   "execution_count": 21,
   "metadata": {
    "collapsed": false
   },
   "outputs": [],
   "source": [
    "#each line is a string, let's make it into a list exactly like we did when viewing it\n",
    "for _line_num in range(len(list_of_clicks)):\n",
    "    list_of_clicks[_line_num] = (list_of_clicks[_line_num]).split()"
   ]
  },
  {
   "cell_type": "code",
   "execution_count": 40,
   "metadata": {
    "collapsed": false
   },
   "outputs": [],
   "source": [
    "#let's find the most common pages accessed in the dataset\n",
    "#flatten the list of lists...\n",
    "import itertools\n",
    "flat_list_of_clicks = list(itertools.chain(*list_of_clicks))"
   ]
  },
  {
   "cell_type": "code",
   "execution_count": null,
   "metadata": {
    "collapsed": true
   },
   "outputs": [],
   "source": []
  },
  {
   "cell_type": "code",
   "execution_count": 53,
   "metadata": {
    "collapsed": false
   },
   "outputs": [
    {
     "data": {
      "text/html": [
       "\n",
       "\n",
       "    <div class=\"plotdiv\" id=\"0d95612f-8cec-4d2c-9709-e4972d020f7b\"></div>\n",
       "<script type=\"text/javascript\">\n",
       "  \n",
       "  (function(global) {\n",
       "    function now() {\n",
       "      return new Date();\n",
       "    }\n",
       "  \n",
       "    if (typeof (window._bokeh_onload_callbacks) === \"undefined\") {\n",
       "      window._bokeh_onload_callbacks = [];\n",
       "    }\n",
       "  \n",
       "    function run_callbacks() {\n",
       "      window._bokeh_onload_callbacks.forEach(function(callback) { callback() });\n",
       "      delete window._bokeh_onload_callbacks\n",
       "      console.info(\"Bokeh: all callbacks have finished\");\n",
       "    }\n",
       "  \n",
       "    function load_libs(js_urls, callback) {\n",
       "      window._bokeh_onload_callbacks.push(callback);\n",
       "      if (window._bokeh_is_loading > 0) {\n",
       "        console.log(\"Bokeh: BokehJS is being loaded, scheduling callback at\", now());\n",
       "        return null;\n",
       "      }\n",
       "      if (js_urls == null || js_urls.length === 0) {\n",
       "        run_callbacks();\n",
       "        return null;\n",
       "      }\n",
       "      console.log(\"Bokeh: BokehJS not loaded, scheduling load and callback at\", now());\n",
       "      window._bokeh_is_loading = js_urls.length;\n",
       "      for (var i = 0; i < js_urls.length; i++) {\n",
       "        var url = js_urls[i];\n",
       "        var s = document.createElement('script');\n",
       "        s.src = url;\n",
       "        s.async = false;\n",
       "        s.onreadystatechange = s.onload = function() {\n",
       "          window._bokeh_is_loading--;\n",
       "          if (window._bokeh_is_loading === 0) {\n",
       "            console.log(\"Bokeh: all BokehJS libraries loaded\");\n",
       "            run_callbacks()\n",
       "          }\n",
       "        };\n",
       "        s.onerror = function() {\n",
       "          console.warn(\"failed to load library \" + url);\n",
       "        };\n",
       "        console.log(\"Bokeh: injecting script tag for BokehJS library: \", url);\n",
       "        document.getElementsByTagName(\"head\")[0].appendChild(s);\n",
       "      }\n",
       "    };var element = document.getElementById(\"0d95612f-8cec-4d2c-9709-e4972d020f7b\");\n",
       "    if (element == null) {\n",
       "      console.log(\"Bokeh: ERROR: autoload.js configured with elementid '0d95612f-8cec-4d2c-9709-e4972d020f7b' but no matching script tag was found. \")\n",
       "      return false;\n",
       "    }var js_urls = [];\n",
       "  \n",
       "    var inline_js = [\n",
       "      function(Bokeh) {\n",
       "        Bokeh.$(function() {\n",
       "            var docs_json = {\"ab497956-bbb9-44a2-a631-828cbc0a253c\": {\"version\": \"0.11.0\", \"roots\": {\"root_ids\": [\"3011e6d0-c0d8-42b0-8233-8a0e46b2246a\", \"369be5c2-5539-4f41-986a-5e987cf7fb6a\", \"49ffa622-16fb-449d-ada1-0789f2210d71\", \"02ea240b-91d3-4808-9d3c-be1184f9ed66\"], \"references\": [{\"attributes\": {\"nonselection_glyph\": null, \"data_source\": {\"type\": \"ColumnDataSource\", \"id\": \"1dab81c5-fc3a-47fb-ac2b-f1a55fded96c\"}, \"selection_glyph\": null, \"hover_glyph\": null, \"glyph\": {\"type\": \"Rect\", \"id\": \"3b783a35-98e0-4f83-9bc0-5aec74b97b9b\"}}, \"type\": \"GlyphRenderer\", \"id\": \"755efabf-4d5f-4de8-965e-77f5a39bdec8\"}, {\"attributes\": {\"callback\": null, \"column_names\": [\"line_color\", \"line_alpha\", \"color\", \"fill_alpha\", \"height\", \"width\", \"y\", \"x\"], \"data\": {\"line_color\": [\"white\"], \"line_alpha\": [1.0], \"chart_index\": [{\"names\": \"c\"}], \"color\": [\"#f22c40\"], \"fill_alpha\": [0.8], \"height\": [5.0], \"width\": [0.8], \"names\": [\"c\"], \"y\": [2.5], \"x\": [\"c\"]}}, \"type\": \"ColumnDataSource\", \"id\": \"1dab81c5-fc3a-47fb-ac2b-f1a55fded96c\"}, {\"attributes\": {\"callback\": null, \"column_names\": [\"line_color\", \"line_alpha\", \"color\", \"fill_alpha\", \"height\", \"width\", \"y\", \"x\"], \"data\": {\"line_color\": [\"white\"], \"index\": [1], \"chart_index\": [{\"index\": 1}], \"line_alpha\": [1.0], \"color\": [\"#f22c40\"], \"fill_alpha\": [0.8], \"height\": [4.0], \"width\": [0.8], \"y\": [2.0], \"x\": [\"1\"]}}, \"type\": \"ColumnDataSource\", \"id\": \"c1a584b3-6059-4f5d-9045-bfeb5320885d\"}, {\"attributes\": {\"line_color\": {\"field\": \"line_color\"}, \"fill_color\": {\"field\": \"color\"}, \"fill_alpha\": {\"field\": \"fill_alpha\"}, \"height\": {\"units\": \"data\", \"field\": \"height\"}, \"width\": {\"units\": \"data\", \"field\": \"width\"}, \"y\": {\"field\": \"y\"}, \"x\": {\"field\": \"x\"}}, \"type\": \"Rect\", \"id\": \"5c195e15-5c52-47ff-9f47-a531b9160a48\"}, {\"attributes\": {\"plot\": {\"subtype\": \"Figure\", \"type\": \"Plot\", \"id\": \"3011e6d0-c0d8-42b0-8233-8a0e46b2246a\"}}, \"type\": \"HelpTool\", \"id\": \"d9876d90-66f4-4a7d-beac-c7507d40cb05\"}, {\"attributes\": {\"plot\": {\"subtype\": \"Chart\", \"type\": \"Plot\", \"id\": \"02ea240b-91d3-4808-9d3c-be1184f9ed66\"}}, \"type\": \"HelpTool\", \"id\": \"7063704a-ceda-49cb-a68f-b4f18ddb03c6\"}, {\"attributes\": {\"nonselection_glyph\": null, \"data_source\": {\"type\": \"ColumnDataSource\", \"id\": \"a1e02e5c-30de-4417-9559-b6f41cee8c16\"}, \"selection_glyph\": null, \"hover_glyph\": null, \"glyph\": {\"type\": \"Rect\", \"id\": \"82b6cc58-d827-4827-a669-5e4f68f4e4dc\"}}, \"type\": \"GlyphRenderer\", \"id\": \"c24dcfc0-0a33-4aa9-adc3-599eed2b4c6c\"}, {\"attributes\": {\"callback\": null, \"column_names\": [\"line_color\", \"line_alpha\", \"color\", \"fill_alpha\", \"height\", \"width\", \"y\", \"x\"], \"data\": {\"line_color\": [\"white\"], \"line_alpha\": [1.0], \"chart_index\": [{\"names\": \"d\"}], \"color\": [\"#f22c40\"], \"fill_alpha\": [0.8], \"height\": [1.0], \"width\": [0.8], \"names\": [\"d\"], \"y\": [0.5], \"x\": [\"d\"]}}, \"type\": \"ColumnDataSource\", \"id\": \"55a59896-4bda-478e-bf21-9cb5d993739e\"}, {\"attributes\": {\"nonselection_glyph\": null, \"data_source\": {\"type\": \"ColumnDataSource\", \"id\": \"0e8f673a-041d-454d-93cc-765b98e035e3\"}, \"selection_glyph\": null, \"hover_glyph\": null, \"glyph\": {\"type\": \"Rect\", \"id\": \"dd6b7e7b-e605-418d-936d-9c1d9b430d11\"}}, \"type\": \"GlyphRenderer\", \"id\": \"790876ec-db56-4cfb-817f-ce816320f1ab\"}, {\"attributes\": {\"x_range\": {\"type\": \"FactorRange\", \"id\": \"3ca5d342-426b-44ee-b222-beda765f6dd2\"}, \"y_mapper_type\": \"auto\", \"title_text_font_size\": {\"value\": \"14pt\"}, \"yscale\": \"auto\", \"y_range\": {\"type\": \"Range1d\", \"id\": \"2a36739a-5b2b-403f-bf8c-020f089424fd\"}, \"x_mapper_type\": \"auto\", \"renderers\": [{\"type\": \"BoxAnnotation\", \"id\": \"ff41e38f-e1f8-47f8-a54d-6410495675ab\"}, {\"type\": \"GlyphRenderer\", \"id\": \"182a1900-67d2-4fc0-90b6-b0c4e8eef39a\"}, {\"type\": \"GlyphRenderer\", \"id\": \"783deb3c-4cb8-4888-9ba0-4385f21ee332\"}, {\"type\": \"GlyphRenderer\", \"id\": \"84d561f6-d788-45df-a73a-e4d128a8f47b\"}, {\"type\": \"GlyphRenderer\", \"id\": \"89650511-9564-4b4b-aeb9-252079b42c18\"}, {\"type\": \"CategoricalAxis\", \"id\": \"84b3219f-990a-4cc9-8863-e37d7ab7a2ea\"}, {\"type\": \"LinearAxis\", \"id\": \"ddfca2c2-ed70-4aa3-a6fe-cb08b9101371\"}, {\"type\": \"Grid\", \"id\": \"32071bf0-47d5-4120-9e55-96b6bd0dd467\"}], \"xgrid\": false, \"below\": [{\"type\": \"CategoricalAxis\", \"id\": \"84b3219f-990a-4cc9-8863-e37d7ab7a2ea\"}], \"tool_events\": {\"type\": \"ToolEvents\", \"id\": \"5dc549aa-d6a4-41a6-afe9-562d62f26b3f\"}, \"xscale\": \"auto\", \"tools\": [{\"type\": \"PanTool\", \"id\": \"3f3c270c-0a58-44ce-86e4-cda640b64f07\"}, {\"type\": \"WheelZoomTool\", \"id\": \"ab621b61-b281-45bb-93af-1e5bd4f83dc3\"}, {\"type\": \"BoxZoomTool\", \"id\": \"11443770-5886-448f-964b-3118b07a2d5d\"}, {\"type\": \"PreviewSaveTool\", \"id\": \"7691ae80-329d-40a3-a8cc-931649e910bb\"}, {\"type\": \"ResizeTool\", \"id\": \"6a16b97c-ac83-458e-90e9-92eab7deeaa8\"}, {\"type\": \"ResetTool\", \"id\": \"e31b75ab-9fa7-4a56-ad14-8378d3648f3a\"}, {\"type\": \"HelpTool\", \"id\": \"e8432df4-ad9c-4df2-a221-9a03e1460b93\"}], \"legend\": null, \"left\": [{\"type\": \"LinearAxis\", \"id\": \"ddfca2c2-ed70-4aa3-a6fe-cb08b9101371\"}]}, \"type\": \"Plot\", \"id\": \"49ffa622-16fb-449d-ada1-0789f2210d71\", \"subtype\": \"Chart\"}, {\"attributes\": {}, \"type\": \"ToolEvents\", \"id\": \"5dc549aa-d6a4-41a6-afe9-562d62f26b3f\"}, {\"attributes\": {}, \"type\": \"BasicTicker\", \"id\": \"253fecba-6536-4092-ad28-e29f1cb642f7\"}, {\"attributes\": {\"line_color\": {\"field\": \"line_color\"}, \"fill_color\": {\"field\": \"color\"}, \"fill_alpha\": {\"field\": \"fill_alpha\"}, \"height\": {\"units\": \"data\", \"field\": \"height\"}, \"width\": {\"units\": \"data\", \"field\": \"width\"}, \"y\": {\"field\": \"y\"}, \"x\": {\"field\": \"x\"}}, \"type\": \"Rect\", \"id\": \"11f0d5aa-358c-49d2-81e2-11be25ca5424\"}, {\"attributes\": {\"plot\": {\"subtype\": \"Chart\", \"type\": \"Plot\", \"id\": \"49ffa622-16fb-449d-ada1-0789f2210d71\"}, \"overlay\": {\"type\": \"BoxAnnotation\", \"id\": \"ff41e38f-e1f8-47f8-a54d-6410495675ab\"}}, \"type\": \"BoxZoomTool\", \"id\": \"11443770-5886-448f-964b-3118b07a2d5d\"}, {\"attributes\": {\"callback\": null, \"column_names\": [\"line_color\", \"line_alpha\", \"color\", \"fill_alpha\", \"height\", \"width\", \"y\", \"x\"], \"data\": {\"line_color\": [\"white\"], \"line_alpha\": [1.0], \"chart_index\": [{\"names\": \"d\"}], \"color\": [\"#f22c40\"], \"fill_alpha\": [0.8], \"height\": [6.0], \"width\": [0.8], \"names\": [\"d\"], \"y\": [3.0], \"x\": [\"d\"]}}, \"type\": \"ColumnDataSource\", \"id\": \"be97ffe0-175d-425e-bd43-091090ba387c\"}, {\"attributes\": {\"callback\": null, \"column_names\": [\"line_color\", \"line_alpha\", \"color\", \"fill_alpha\", \"height\", \"width\", \"y\", \"x\"], \"data\": {\"line_color\": [\"white\"], \"line_alpha\": [1.0], \"chart_index\": [{\"names\": \"a\"}], \"color\": [\"#f22c40\"], \"fill_alpha\": [0.8], \"height\": [3.0], \"width\": [0.8], \"names\": [\"a\"], \"y\": [1.5], \"x\": [\"a\"]}}, \"type\": \"ColumnDataSource\", \"id\": \"a1e02e5c-30de-4417-9559-b6f41cee8c16\"}, {\"attributes\": {\"plot\": {\"subtype\": \"Chart\", \"type\": \"Plot\", \"id\": \"02ea240b-91d3-4808-9d3c-be1184f9ed66\"}, \"ticker\": {\"type\": \"BasicTicker\", \"id\": \"253fecba-6536-4092-ad28-e29f1cb642f7\"}, \"dimension\": 1}, \"type\": \"Grid\", \"id\": \"b89371d2-f20a-452d-9fa6-5bd32c4b9984\"}, {\"attributes\": {\"plot\": {\"subtype\": \"Chart\", \"type\": \"Plot\", \"id\": \"02ea240b-91d3-4808-9d3c-be1184f9ed66\"}}, \"type\": \"WheelZoomTool\", \"id\": \"bd0b36e2-6de7-403e-bc9b-d75194cb1865\"}, {\"attributes\": {}, \"type\": \"BasicTicker\", \"id\": \"cccbad3c-829f-4e1d-9470-4f8f3dffd696\"}, {\"attributes\": {\"plot\": {\"subtype\": \"Figure\", \"type\": \"Plot\", \"id\": \"3011e6d0-c0d8-42b0-8233-8a0e46b2246a\"}}, \"type\": \"PanTool\", \"id\": \"cc2ec763-67bd-4677-b076-d3c34cbb5b71\"}, {\"attributes\": {}, \"type\": \"CategoricalTicker\", \"id\": \"e76f2eab-f3e3-426e-a602-c6e1e0c526fe\"}, {\"attributes\": {\"plot\": {\"subtype\": \"Chart\", \"type\": \"Plot\", \"id\": \"49ffa622-16fb-449d-ada1-0789f2210d71\"}}, \"type\": \"ResetTool\", \"id\": \"e31b75ab-9fa7-4a56-ad14-8378d3648f3a\"}, {\"attributes\": {\"plot\": {\"subtype\": \"Figure\", \"type\": \"Plot\", \"id\": \"3011e6d0-c0d8-42b0-8233-8a0e46b2246a\"}, \"ticker\": {\"type\": \"BasicTicker\", \"id\": \"8a6461b2-74ff-4729-86a5-41a575459f9a\"}}, \"type\": \"Grid\", \"id\": \"c3f561fd-f2cf-4e22-aac4-235ac600fab2\"}, {\"attributes\": {\"callback\": null, \"column_names\": [\"line_color\", \"line_alpha\", \"color\", \"fill_alpha\", \"height\", \"width\", \"y\", \"x\"], \"data\": {\"line_color\": [\"white\"], \"index\": [2], \"chart_index\": [{\"index\": 2}], \"line_alpha\": [1.0], \"color\": [\"#f22c40\"], \"fill_alpha\": [0.8], \"height\": [5.0], \"width\": [0.8], \"y\": [2.5], \"x\": [\"2\"]}}, \"type\": \"ColumnDataSource\", \"id\": \"e4f1180a-36ac-4b3f-8981-2143633eeec3\"}, {\"attributes\": {\"line_color\": {\"field\": \"line_color\"}, \"fill_color\": {\"field\": \"color\"}, \"fill_alpha\": {\"field\": \"fill_alpha\"}, \"height\": {\"units\": \"data\", \"field\": \"height\"}, \"width\": {\"units\": \"data\", \"field\": \"width\"}, \"y\": {\"field\": \"y\"}, \"x\": {\"field\": \"x\"}}, \"type\": \"Rect\", \"id\": \"61f7855a-388c-4970-821b-4a9bc49f8dea\"}, {\"attributes\": {}, \"type\": \"ToolEvents\", \"id\": \"a19957d2-947a-48b7-a866-63384d5faa9d\"}, {\"attributes\": {\"plot\": {\"subtype\": \"Chart\", \"type\": \"Plot\", \"id\": \"369be5c2-5539-4f41-986a-5e987cf7fb6a\"}, \"axis_label\": \"Sum( A )\", \"formatter\": {\"type\": \"BasicTickFormatter\", \"id\": \"acf8a8b7-b157-4103-a3eb-844b6e2073a1\"}, \"ticker\": {\"type\": \"BasicTicker\", \"id\": \"cccbad3c-829f-4e1d-9470-4f8f3dffd696\"}}, \"type\": \"LinearAxis\", \"id\": \"aa9abb12-bb53-4c52-bd18-493c6f35e63a\"}, {\"attributes\": {\"plot\": {\"subtype\": \"Chart\", \"type\": \"Plot\", \"id\": \"369be5c2-5539-4f41-986a-5e987cf7fb6a\"}}, \"type\": \"ResizeTool\", \"id\": \"16c924db-d1bc-447d-81b4-2a2d0345f8ef\"}, {\"attributes\": {\"line_color\": {\"field\": \"line_color\"}, \"fill_color\": {\"field\": \"color\"}, \"fill_alpha\": {\"field\": \"fill_alpha\"}, \"height\": {\"units\": \"data\", \"field\": \"height\"}, \"width\": {\"units\": \"data\", \"field\": \"width\"}, \"y\": {\"field\": \"y\"}, \"x\": {\"field\": \"x\"}}, \"type\": \"Rect\", \"id\": \"0879d573-daf8-4bc0-bb13-e4fde8f26a58\"}, {\"attributes\": {\"callback\": null, \"end\": 1.05}, \"type\": \"Range1d\", \"id\": \"2a36739a-5b2b-403f-bf8c-020f089424fd\"}, {\"attributes\": {}, \"type\": \"BasicTicker\", \"id\": \"e5d70ede-3557-4226-8ff2-363ee48ca7ae\"}, {\"attributes\": {\"plot\": {\"subtype\": \"Figure\", \"type\": \"Plot\", \"id\": \"3011e6d0-c0d8-42b0-8233-8a0e46b2246a\"}, \"overlay\": {\"type\": \"BoxAnnotation\", \"id\": \"e4ad71aa-ce5a-4074-b6f1-7d82fe555d86\"}}, \"type\": \"BoxZoomTool\", \"id\": \"7d7d3a5f-41fb-4c5a-bc17-c1fd69c89deb\"}, {\"attributes\": {\"plot\": {\"subtype\": \"Chart\", \"type\": \"Plot\", \"id\": \"49ffa622-16fb-449d-ada1-0789f2210d71\"}, \"axis_label\": \"Count( Names )\", \"formatter\": {\"type\": \"BasicTickFormatter\", \"id\": \"7a62f48c-726d-4581-a591-566e81253b0b\"}, \"ticker\": {\"type\": \"BasicTicker\", \"id\": \"e5d70ede-3557-4226-8ff2-363ee48ca7ae\"}}, \"type\": \"LinearAxis\", \"id\": \"ddfca2c2-ed70-4aa3-a6fe-cb08b9101371\"}, {\"attributes\": {\"x_range\": {\"type\": \"FactorRange\", \"id\": \"00549602-ccf1-416f-9208-f89d12c043bd\"}, \"y_mapper_type\": \"auto\", \"title_text_font_size\": {\"value\": \"14pt\"}, \"yscale\": \"auto\", \"y_range\": {\"type\": \"Range1d\", \"id\": \"c9f1499e-bd86-4e98-b88e-44752b9c2815\"}, \"x_mapper_type\": \"auto\", \"renderers\": [{\"type\": \"BoxAnnotation\", \"id\": \"f776b948-f5e6-41cc-bd2f-ed9ed816aed7\"}, {\"type\": \"GlyphRenderer\", \"id\": \"790876ec-db56-4cfb-817f-ce816320f1ab\"}, {\"type\": \"GlyphRenderer\", \"id\": \"b44d91c7-68e5-4ff5-89bf-b4e081fd1317\"}, {\"type\": \"GlyphRenderer\", \"id\": \"bea027fc-b934-49ff-956e-d3c5fe81c0f1\"}, {\"type\": \"GlyphRenderer\", \"id\": \"857a511b-6280-4d9f-8dac-def225dff234\"}, {\"type\": \"CategoricalAxis\", \"id\": \"34c35f90-86d1-4ae4-a4f5-194db75d34a2\"}, {\"type\": \"LinearAxis\", \"id\": \"aa9abb12-bb53-4c52-bd18-493c6f35e63a\"}, {\"type\": \"Grid\", \"id\": \"cd2ba69a-92d2-45ec-982b-59f2634d6b9d\"}], \"xgrid\": false, \"below\": [{\"type\": \"CategoricalAxis\", \"id\": \"34c35f90-86d1-4ae4-a4f5-194db75d34a2\"}], \"tool_events\": {\"type\": \"ToolEvents\", \"id\": \"88064d1f-6e36-4995-bab6-193aad7c7d04\"}, \"xscale\": \"auto\", \"tools\": [{\"type\": \"PanTool\", \"id\": \"6c6d1807-86ea-44b4-a5c5-b73c91e602a7\"}, {\"type\": \"WheelZoomTool\", \"id\": \"cf677773-e20e-4dcd-99ee-cc2b152a240f\"}, {\"type\": \"BoxZoomTool\", \"id\": \"3d02f04f-7a2b-4bde-a344-5626b4d0dc2a\"}, {\"type\": \"PreviewSaveTool\", \"id\": \"9e9b9c07-f451-402d-9bd6-32d3902d0e79\"}, {\"type\": \"ResizeTool\", \"id\": \"16c924db-d1bc-447d-81b4-2a2d0345f8ef\"}, {\"type\": \"ResetTool\", \"id\": \"3b114a60-9df1-42d1-aaa1-1955f1564ea7\"}, {\"type\": \"HelpTool\", \"id\": \"5e4c34ab-3b0f-4c99-ba7a-7c8d7d5e1b5d\"}], \"legend\": null, \"left\": [{\"type\": \"LinearAxis\", \"id\": \"aa9abb12-bb53-4c52-bd18-493c6f35e63a\"}]}, \"type\": \"Plot\", \"id\": \"369be5c2-5539-4f41-986a-5e987cf7fb6a\", \"subtype\": \"Chart\"}, {\"attributes\": {\"line_color\": {\"value\": \"black\"}, \"line_alpha\": {\"value\": 1.0}, \"render_mode\": \"css\", \"bottom_units\": \"screen\", \"level\": \"overlay\", \"top_units\": \"screen\", \"fill_alpha\": {\"value\": 0.5}, \"plot\": null, \"left_units\": \"screen\", \"line_dash\": [4, 4], \"line_width\": {\"value\": 2}, \"right_units\": \"screen\", \"fill_color\": {\"value\": \"lightgrey\"}}, \"type\": \"BoxAnnotation\", \"id\": \"f776b948-f5e6-41cc-bd2f-ed9ed816aed7\"}, {\"attributes\": {\"plot\": {\"subtype\": \"Chart\", \"type\": \"Plot\", \"id\": \"02ea240b-91d3-4808-9d3c-be1184f9ed66\"}}, \"type\": \"PanTool\", \"id\": \"eecd2590-3e75-4c8f-bcf4-f1d26174ac97\"}, {\"attributes\": {\"callback\": null}, \"type\": \"DataRange1d\", \"id\": \"e4849233-af78-473c-b751-660fbadd4ae9\"}, {\"attributes\": {\"line_color\": {\"field\": \"line_color\"}, \"fill_color\": {\"field\": \"color\"}, \"fill_alpha\": {\"field\": \"fill_alpha\"}, \"height\": {\"units\": \"data\", \"field\": \"height\"}, \"width\": {\"units\": \"data\", \"field\": \"width\"}, \"y\": {\"field\": \"y\"}, \"x\": {\"field\": \"x\"}}, \"type\": \"Rect\", \"id\": \"ab98e5e0-c410-447e-b6ce-ef2e6bf1b1a3\"}, {\"attributes\": {\"plot\": {\"subtype\": \"Figure\", \"type\": \"Plot\", \"id\": \"3011e6d0-c0d8-42b0-8233-8a0e46b2246a\"}, \"formatter\": {\"type\": \"BasicTickFormatter\", \"id\": \"798ea176-3f68-4022-bab6-fc580930969e\"}, \"ticker\": {\"type\": \"BasicTicker\", \"id\": \"81f641d2-e3ef-4760-ac14-1d5178824645\"}}, \"type\": \"LinearAxis\", \"id\": \"b29be986-d0c9-4a9e-9c76-ec6fcb656e28\"}, {\"attributes\": {\"nonselection_glyph\": null, \"data_source\": {\"type\": \"ColumnDataSource\", \"id\": \"b75be5dd-1b35-4032-9658-0c3c5057d902\"}, \"selection_glyph\": null, \"hover_glyph\": null, \"glyph\": {\"type\": \"Rect\", \"id\": \"5c195e15-5c52-47ff-9f47-a531b9160a48\"}}, \"type\": \"GlyphRenderer\", \"id\": \"4ca2a2d1-f6d6-42fd-9174-fe8e9e5b6d60\"}, {\"attributes\": {\"nonselection_glyph\": null, \"data_source\": {\"type\": \"ColumnDataSource\", \"id\": \"be97ffe0-175d-425e-bd43-091090ba387c\"}, \"selection_glyph\": null, \"hover_glyph\": null, \"glyph\": {\"type\": \"Rect\", \"id\": \"61f7855a-388c-4970-821b-4a9bc49f8dea\"}}, \"type\": \"GlyphRenderer\", \"id\": \"460e6365-8992-4978-afe9-ff9ce7a8d867\"}, {\"attributes\": {\"plot\": {\"subtype\": \"Figure\", \"type\": \"Plot\", \"id\": \"3011e6d0-c0d8-42b0-8233-8a0e46b2246a\"}}, \"type\": \"ResizeTool\", \"id\": \"579e498c-fd16-449a-bf45-91c864c6788f\"}, {\"attributes\": {}, \"type\": \"BasicTicker\", \"id\": \"81f641d2-e3ef-4760-ac14-1d5178824645\"}, {\"attributes\": {\"major_label_orientation\": 0.7853981633974483, \"plot\": {\"subtype\": \"Chart\", \"type\": \"Plot\", \"id\": \"369be5c2-5539-4f41-986a-5e987cf7fb6a\"}, \"formatter\": {\"type\": \"CategoricalTickFormatter\", \"id\": \"8ec91b8a-5301-41dc-b10a-b713f32ad14d\"}, \"ticker\": {\"type\": \"CategoricalTicker\", \"id\": \"73456c19-037c-4728-b1f2-36a961293b8c\"}}, \"type\": \"CategoricalAxis\", \"id\": \"34c35f90-86d1-4ae4-a4f5-194db75d34a2\"}, {\"attributes\": {}, \"type\": \"CategoricalTickFormatter\", \"id\": \"8ec91b8a-5301-41dc-b10a-b713f32ad14d\"}, {\"attributes\": {\"plot\": {\"subtype\": \"Chart\", \"type\": \"Plot\", \"id\": \"02ea240b-91d3-4808-9d3c-be1184f9ed66\"}, \"axis_label\": \"Sum( A )\", \"formatter\": {\"type\": \"BasicTickFormatter\", \"id\": \"92c374b2-e12c-401c-a7ee-42dbe574cbdd\"}, \"ticker\": {\"type\": \"BasicTicker\", \"id\": \"253fecba-6536-4092-ad28-e29f1cb642f7\"}}, \"type\": \"LinearAxis\", \"id\": \"f399b2a6-198c-4cc3-8924-212e826d96db\"}, {\"attributes\": {\"plot\": {\"subtype\": \"Figure\", \"type\": \"Plot\", \"id\": \"3011e6d0-c0d8-42b0-8233-8a0e46b2246a\"}}, \"type\": \"PreviewSaveTool\", \"id\": \"361e70ed-b9a8-45f9-be72-b431fee3e977\"}, {\"attributes\": {\"plot\": {\"subtype\": \"Chart\", \"type\": \"Plot\", \"id\": \"369be5c2-5539-4f41-986a-5e987cf7fb6a\"}}, \"type\": \"ResetTool\", \"id\": \"3b114a60-9df1-42d1-aaa1-1955f1564ea7\"}, {\"attributes\": {\"plot\": {\"subtype\": \"Chart\", \"type\": \"Plot\", \"id\": \"49ffa622-16fb-449d-ada1-0789f2210d71\"}}, \"type\": \"ResizeTool\", \"id\": \"6a16b97c-ac83-458e-90e9-92eab7deeaa8\"}, {\"attributes\": {\"plot\": {\"subtype\": \"Chart\", \"type\": \"Plot\", \"id\": \"49ffa622-16fb-449d-ada1-0789f2210d71\"}, \"ticker\": {\"type\": \"BasicTicker\", \"id\": \"e5d70ede-3557-4226-8ff2-363ee48ca7ae\"}, \"dimension\": 1}, \"type\": \"Grid\", \"id\": \"32071bf0-47d5-4120-9e55-96b6bd0dd467\"}, {\"attributes\": {\"callback\": null, \"column_names\": [\"line_color\", \"line_alpha\", \"color\", \"fill_alpha\", \"height\", \"width\", \"y\", \"x\"], \"data\": {\"line_color\": [\"white\"], \"line_alpha\": [1.0], \"chart_index\": [{\"names\": \"c\"}], \"color\": [\"#f22c40\"], \"fill_alpha\": [0.8], \"height\": [1.0], \"width\": [0.8], \"names\": [\"c\"], \"y\": [0.5], \"x\": [\"c\"]}}, \"type\": \"ColumnDataSource\", \"id\": \"3d9793b4-d42e-4ceb-8076-acf5e677519e\"}, {\"attributes\": {\"line_color\": {\"value\": \"black\"}, \"line_alpha\": {\"value\": 1.0}, \"render_mode\": \"css\", \"bottom_units\": \"screen\", \"level\": \"overlay\", \"top_units\": \"screen\", \"fill_alpha\": {\"value\": 0.5}, \"plot\": null, \"left_units\": \"screen\", \"line_dash\": [4, 4], \"line_width\": {\"value\": 2}, \"right_units\": \"screen\", \"fill_color\": {\"value\": \"lightgrey\"}}, \"type\": \"BoxAnnotation\", \"id\": \"e4ad71aa-ce5a-4074-b6f1-7d82fe555d86\"}, {\"attributes\": {}, \"type\": \"BasicTickFormatter\", \"id\": \"7a62f48c-726d-4581-a591-566e81253b0b\"}, {\"attributes\": {\"plot\": {\"subtype\": \"Chart\", \"type\": \"Plot\", \"id\": \"02ea240b-91d3-4808-9d3c-be1184f9ed66\"}}, \"type\": \"PreviewSaveTool\", \"id\": \"ebc7bcd2-2633-4acd-814f-b99ae42e347d\"}, {\"attributes\": {\"plot\": {\"subtype\": \"Chart\", \"type\": \"Plot\", \"id\": \"49ffa622-16fb-449d-ada1-0789f2210d71\"}}, \"type\": \"WheelZoomTool\", \"id\": \"ab621b61-b281-45bb-93af-1e5bd4f83dc3\"}, {\"attributes\": {\"line_color\": {\"field\": \"line_color\"}, \"fill_color\": {\"field\": \"color\"}, \"fill_alpha\": {\"field\": \"fill_alpha\"}, \"height\": {\"units\": \"data\", \"field\": \"height\"}, \"width\": {\"units\": \"data\", \"field\": \"width\"}, \"y\": {\"field\": \"y\"}, \"x\": {\"field\": \"x\"}}, \"type\": \"Rect\", \"id\": \"5717e396-2a14-4b65-bf7d-0844230c0057\"}, {\"attributes\": {\"plot\": {\"subtype\": \"Chart\", \"type\": \"Plot\", \"id\": \"369be5c2-5539-4f41-986a-5e987cf7fb6a\"}}, \"type\": \"PanTool\", \"id\": \"6c6d1807-86ea-44b4-a5c5-b73c91e602a7\"}, {\"attributes\": {\"callback\": null, \"end\": 6.3}, \"type\": \"Range1d\", \"id\": \"c9f1499e-bd86-4e98-b88e-44752b9c2815\"}, {\"attributes\": {\"callback\": null, \"column_names\": [\"line_color\", \"line_alpha\", \"color\", \"fill_alpha\", \"height\", \"width\", \"y\", \"x\"], \"data\": {\"line_color\": [\"white\"], \"index\": [3], \"chart_index\": [{\"index\": 3}], \"line_alpha\": [1.0], \"color\": [\"#f22c40\"], \"fill_alpha\": [0.8], \"height\": [6.0], \"width\": [0.8], \"y\": [3.0], \"x\": [\"3\"]}}, \"type\": \"ColumnDataSource\", \"id\": \"022b2f96-3ad9-44c5-ab25-9ce41c0c7164\"}, {\"attributes\": {\"nonselection_glyph\": null, \"data_source\": {\"type\": \"ColumnDataSource\", \"id\": \"5bdb84cf-dd36-402b-b691-be5900e60ed0\"}, \"selection_glyph\": null, \"hover_glyph\": null, \"glyph\": {\"type\": \"Rect\", \"id\": \"f0856627-eb3f-4d30-a108-3e0f0812c9a8\"}}, \"type\": \"GlyphRenderer\", \"id\": \"783deb3c-4cb8-4888-9ba0-4385f21ee332\"}, {\"attributes\": {}, \"type\": \"BasicTickFormatter\", \"id\": \"798ea176-3f68-4022-bab6-fc580930969e\"}, {\"attributes\": {\"plot\": {\"subtype\": \"Figure\", \"type\": \"Plot\", \"id\": \"3011e6d0-c0d8-42b0-8233-8a0e46b2246a\"}, \"ticker\": {\"type\": \"BasicTicker\", \"id\": \"81f641d2-e3ef-4760-ac14-1d5178824645\"}, \"dimension\": 1}, \"type\": \"Grid\", \"id\": \"efa80a65-38dc-4bed-847b-d28ee085fd7a\"}, {\"attributes\": {}, \"type\": \"BasicTickFormatter\", \"id\": \"92c374b2-e12c-401c-a7ee-42dbe574cbdd\"}, {\"attributes\": {\"nonselection_glyph\": null, \"data_source\": {\"type\": \"ColumnDataSource\", \"id\": \"3d9793b4-d42e-4ceb-8076-acf5e677519e\"}, \"selection_glyph\": null, \"hover_glyph\": null, \"glyph\": {\"type\": \"Rect\", \"id\": \"0879d573-daf8-4bc0-bb13-e4fde8f26a58\"}}, \"type\": \"GlyphRenderer\", \"id\": \"84d561f6-d788-45df-a73a-e4d128a8f47b\"}, {\"attributes\": {\"nonselection_glyph\": null, \"data_source\": {\"type\": \"ColumnDataSource\", \"id\": \"e4f1180a-36ac-4b3f-8981-2143633eeec3\"}, \"selection_glyph\": null, \"hover_glyph\": null, \"glyph\": {\"type\": \"Rect\", \"id\": \"11f0d5aa-358c-49d2-81e2-11be25ca5424\"}}, \"type\": \"GlyphRenderer\", \"id\": \"bea027fc-b934-49ff-956e-d3c5fe81c0f1\"}, {\"attributes\": {}, \"type\": \"BasicTickFormatter\", \"id\": \"650be847-9858-432f-90d6-b4d8faaba83c\"}, {\"attributes\": {\"major_label_orientation\": 0.7853981633974483, \"plot\": {\"subtype\": \"Chart\", \"type\": \"Plot\", \"id\": \"02ea240b-91d3-4808-9d3c-be1184f9ed66\"}, \"axis_label\": \"Names\", \"formatter\": {\"type\": \"CategoricalTickFormatter\", \"id\": \"155d2be5-3ebd-4f27-b9ab-41a3b85c9cb7\"}, \"ticker\": {\"type\": \"CategoricalTicker\", \"id\": \"298eff6a-bd91-4b12-ae57-6847111a2ad0\"}}, \"type\": \"CategoricalAxis\", \"id\": \"1d93c7e3-f9d6-4ae9-84c3-39fbf4468162\"}, {\"attributes\": {\"callback\": null, \"column_names\": [\"line_color\", \"line_alpha\", \"color\", \"fill_alpha\", \"height\", \"width\", \"y\", \"x\"], \"data\": {\"line_color\": [\"white\"], \"index\": [0], \"chart_index\": [{\"index\": 0}], \"line_alpha\": [1.0], \"color\": [\"#f22c40\"], \"fill_alpha\": [0.8], \"height\": [3.0], \"width\": [0.8], \"y\": [1.5], \"x\": [\"0\"]}}, \"type\": \"ColumnDataSource\", \"id\": \"0e8f673a-041d-454d-93cc-765b98e035e3\"}, {\"attributes\": {\"plot\": {\"subtype\": \"Chart\", \"type\": \"Plot\", \"id\": \"49ffa622-16fb-449d-ada1-0789f2210d71\"}}, \"type\": \"PanTool\", \"id\": \"3f3c270c-0a58-44ce-86e4-cda640b64f07\"}, {\"attributes\": {\"plot\": {\"subtype\": \"Chart\", \"type\": \"Plot\", \"id\": \"369be5c2-5539-4f41-986a-5e987cf7fb6a\"}, \"overlay\": {\"type\": \"BoxAnnotation\", \"id\": \"f776b948-f5e6-41cc-bd2f-ed9ed816aed7\"}}, \"type\": \"BoxZoomTool\", \"id\": \"3d02f04f-7a2b-4bde-a344-5626b4d0dc2a\"}, {\"attributes\": {}, \"type\": \"BasicTicker\", \"id\": \"8a6461b2-74ff-4729-86a5-41a575459f9a\"}, {\"attributes\": {\"callback\": null, \"column_names\": [\"line_color\", \"line_alpha\", \"color\", \"fill_alpha\", \"height\", \"width\", \"y\", \"x\"], \"data\": {\"line_color\": [\"white\"], \"line_alpha\": [1.0], \"chart_index\": [{\"names\": \"a\"}], \"color\": [\"#f22c40\"], \"fill_alpha\": [0.8], \"height\": [1.0], \"width\": [0.8], \"names\": [\"a\"], \"y\": [0.5], \"x\": [\"a\"]}}, \"type\": \"ColumnDataSource\", \"id\": \"b4890d06-23cc-46a2-acaa-b78e03668245\"}, {\"attributes\": {\"callback\": null, \"factors\": [\"0\", \"1\", \"2\", \"3\"]}, \"type\": \"FactorRange\", \"id\": \"00549602-ccf1-416f-9208-f89d12c043bd\"}, {\"attributes\": {\"line_color\": {\"field\": \"line_color\"}, \"fill_color\": {\"field\": \"color\"}, \"fill_alpha\": {\"field\": \"fill_alpha\"}, \"height\": {\"units\": \"data\", \"field\": \"height\"}, \"width\": {\"units\": \"data\", \"field\": \"width\"}, \"y\": {\"field\": \"y\"}, \"x\": {\"field\": \"x\"}}, \"type\": \"Rect\", \"id\": \"1d1c6068-3b81-456a-85ab-2bbf7318905a\"}, {\"attributes\": {\"plot\": {\"subtype\": \"Figure\", \"type\": \"Plot\", \"id\": \"3011e6d0-c0d8-42b0-8233-8a0e46b2246a\"}, \"formatter\": {\"type\": \"BasicTickFormatter\", \"id\": \"650be847-9858-432f-90d6-b4d8faaba83c\"}, \"ticker\": {\"type\": \"BasicTicker\", \"id\": \"8a6461b2-74ff-4729-86a5-41a575459f9a\"}}, \"type\": \"LinearAxis\", \"id\": \"764567c5-a7df-47ee-a665-d1d30c931116\"}, {\"attributes\": {\"plot\": {\"subtype\": \"Chart\", \"type\": \"Plot\", \"id\": \"369be5c2-5539-4f41-986a-5e987cf7fb6a\"}}, \"type\": \"HelpTool\", \"id\": \"5e4c34ab-3b0f-4c99-ba7a-7c8d7d5e1b5d\"}, {\"attributes\": {}, \"type\": \"CategoricalTickFormatter\", \"id\": \"155d2be5-3ebd-4f27-b9ab-41a3b85c9cb7\"}, {\"attributes\": {\"plot\": {\"subtype\": \"Figure\", \"type\": \"Plot\", \"id\": \"3011e6d0-c0d8-42b0-8233-8a0e46b2246a\"}}, \"type\": \"WheelZoomTool\", \"id\": \"57b86b69-b226-45be-a236-936c4bb91378\"}, {\"attributes\": {\"nonselection_glyph\": null, \"data_source\": {\"type\": \"ColumnDataSource\", \"id\": \"55a59896-4bda-478e-bf21-9cb5d993739e\"}, \"selection_glyph\": null, \"hover_glyph\": null, \"glyph\": {\"type\": \"Rect\", \"id\": \"85d42f44-eeeb-4938-b3c5-817b3988e8b5\"}}, \"type\": \"GlyphRenderer\", \"id\": \"89650511-9564-4b4b-aeb9-252079b42c18\"}, {\"attributes\": {\"callback\": null, \"column_names\": [\"line_color\", \"line_alpha\", \"color\", \"fill_alpha\", \"height\", \"width\", \"y\", \"x\"], \"data\": {\"line_color\": [\"white\"], \"line_alpha\": [1.0], \"chart_index\": [{\"names\": \"b\"}], \"color\": [\"#f22c40\"], \"fill_alpha\": [0.8], \"height\": [4.0], \"width\": [0.8], \"names\": [\"b\"], \"y\": [2.0], \"x\": [\"b\"]}}, \"type\": \"ColumnDataSource\", \"id\": \"b75be5dd-1b35-4032-9658-0c3c5057d902\"}, {\"attributes\": {}, \"type\": \"CategoricalTicker\", \"id\": \"73456c19-037c-4728-b1f2-36a961293b8c\"}, {\"attributes\": {}, \"type\": \"ToolEvents\", \"id\": \"88064d1f-6e36-4995-bab6-193aad7c7d04\"}, {\"attributes\": {\"line_color\": {\"value\": \"black\"}, \"line_alpha\": {\"value\": 1.0}, \"render_mode\": \"css\", \"bottom_units\": \"screen\", \"level\": \"overlay\", \"top_units\": \"screen\", \"fill_alpha\": {\"value\": 0.5}, \"plot\": null, \"left_units\": \"screen\", \"line_dash\": [4, 4], \"line_width\": {\"value\": 2}, \"right_units\": \"screen\", \"fill_color\": {\"value\": \"lightgrey\"}}, \"type\": \"BoxAnnotation\", \"id\": \"ff41e38f-e1f8-47f8-a54d-6410495675ab\"}, {\"attributes\": {\"plot\": {\"subtype\": \"Chart\", \"type\": \"Plot\", \"id\": \"02ea240b-91d3-4808-9d3c-be1184f9ed66\"}}, \"type\": \"ResizeTool\", \"id\": \"76332cc0-c510-4c6a-ae67-946b47b9f775\"}, {\"attributes\": {\"plot\": {\"subtype\": \"Chart\", \"type\": \"Plot\", \"id\": \"369be5c2-5539-4f41-986a-5e987cf7fb6a\"}}, \"type\": \"WheelZoomTool\", \"id\": \"cf677773-e20e-4dcd-99ee-cc2b152a240f\"}, {\"attributes\": {\"x_range\": {\"type\": \"DataRange1d\", \"id\": \"b30c0275-e213-4a97-9e70-2a50f9168444\"}, \"title\": \"Most common pages in BMS webview\", \"y_range\": {\"type\": \"DataRange1d\", \"id\": \"e4849233-af78-473c-b751-660fbadd4ae9\"}, \"renderers\": [{\"type\": \"LinearAxis\", \"id\": \"764567c5-a7df-47ee-a665-d1d30c931116\"}, {\"type\": \"Grid\", \"id\": \"c3f561fd-f2cf-4e22-aac4-235ac600fab2\"}, {\"type\": \"LinearAxis\", \"id\": \"b29be986-d0c9-4a9e-9c76-ec6fcb656e28\"}, {\"type\": \"Grid\", \"id\": \"efa80a65-38dc-4bed-847b-d28ee085fd7a\"}, {\"type\": \"BoxAnnotation\", \"id\": \"e4ad71aa-ce5a-4074-b6f1-7d82fe555d86\"}], \"below\": [{\"type\": \"LinearAxis\", \"id\": \"764567c5-a7df-47ee-a665-d1d30c931116\"}], \"tool_events\": {\"type\": \"ToolEvents\", \"id\": \"2f4ff32e-19bd-4c2e-a545-27a3191958c0\"}, \"tools\": [{\"type\": \"PanTool\", \"id\": \"cc2ec763-67bd-4677-b076-d3c34cbb5b71\"}, {\"type\": \"WheelZoomTool\", \"id\": \"57b86b69-b226-45be-a236-936c4bb91378\"}, {\"type\": \"BoxZoomTool\", \"id\": \"7d7d3a5f-41fb-4c5a-bc17-c1fd69c89deb\"}, {\"type\": \"PreviewSaveTool\", \"id\": \"361e70ed-b9a8-45f9-be72-b431fee3e977\"}, {\"type\": \"ResizeTool\", \"id\": \"579e498c-fd16-449a-bf45-91c864c6788f\"}, {\"type\": \"ResetTool\", \"id\": \"595a43c6-fdb3-494a-bb1c-03eb95bc490a\"}, {\"type\": \"HelpTool\", \"id\": \"d9876d90-66f4-4a7d-beac-c7507d40cb05\"}], \"left\": [{\"type\": \"LinearAxis\", \"id\": \"b29be986-d0c9-4a9e-9c76-ec6fcb656e28\"}]}, \"type\": \"Plot\", \"id\": \"3011e6d0-c0d8-42b0-8233-8a0e46b2246a\", \"subtype\": \"Figure\"}, {\"attributes\": {\"line_color\": {\"field\": \"line_color\"}, \"fill_color\": {\"field\": \"color\"}, \"fill_alpha\": {\"field\": \"fill_alpha\"}, \"height\": {\"units\": \"data\", \"field\": \"height\"}, \"width\": {\"units\": \"data\", \"field\": \"width\"}, \"y\": {\"field\": \"y\"}, \"x\": {\"field\": \"x\"}}, \"type\": \"Rect\", \"id\": \"85d42f44-eeeb-4938-b3c5-817b3988e8b5\"}, {\"attributes\": {}, \"type\": \"ToolEvents\", \"id\": \"2f4ff32e-19bd-4c2e-a545-27a3191958c0\"}, {\"attributes\": {\"plot\": {\"subtype\": \"Chart\", \"type\": \"Plot\", \"id\": \"369be5c2-5539-4f41-986a-5e987cf7fb6a\"}, \"ticker\": {\"type\": \"BasicTicker\", \"id\": \"cccbad3c-829f-4e1d-9470-4f8f3dffd696\"}, \"dimension\": 1}, \"type\": \"Grid\", \"id\": \"cd2ba69a-92d2-45ec-982b-59f2634d6b9d\"}, {\"attributes\": {\"plot\": {\"subtype\": \"Chart\", \"type\": \"Plot\", \"id\": \"49ffa622-16fb-449d-ada1-0789f2210d71\"}}, \"type\": \"PreviewSaveTool\", \"id\": \"7691ae80-329d-40a3-a8cc-931649e910bb\"}, {\"attributes\": {}, \"type\": \"CategoricalTicker\", \"id\": \"298eff6a-bd91-4b12-ae57-6847111a2ad0\"}, {\"attributes\": {\"callback\": null, \"factors\": [\"a\", \"b\", \"c\", \"d\"]}, \"type\": \"FactorRange\", \"id\": \"eeac8a54-7d42-4570-8c12-b40953ab3ca4\"}, {\"attributes\": {\"nonselection_glyph\": null, \"data_source\": {\"type\": \"ColumnDataSource\", \"id\": \"b4890d06-23cc-46a2-acaa-b78e03668245\"}, \"selection_glyph\": null, \"hover_glyph\": null, \"glyph\": {\"type\": \"Rect\", \"id\": \"5717e396-2a14-4b65-bf7d-0844230c0057\"}}, \"type\": \"GlyphRenderer\", \"id\": \"182a1900-67d2-4fc0-90b6-b0c4e8eef39a\"}, {\"attributes\": {\"plot\": {\"subtype\": \"Chart\", \"type\": \"Plot\", \"id\": \"02ea240b-91d3-4808-9d3c-be1184f9ed66\"}, \"overlay\": {\"type\": \"BoxAnnotation\", \"id\": \"867c611d-81df-4d41-9bf5-7822c6d3db25\"}}, \"type\": \"BoxZoomTool\", \"id\": \"9c2ba6d2-a81a-4140-9ff3-c3c0c39678ed\"}, {\"attributes\": {\"line_color\": {\"value\": \"black\"}, \"line_alpha\": {\"value\": 1.0}, \"render_mode\": \"css\", \"bottom_units\": \"screen\", \"level\": \"overlay\", \"top_units\": \"screen\", \"fill_alpha\": {\"value\": 0.5}, \"plot\": null, \"left_units\": \"screen\", \"line_dash\": [4, 4], \"line_width\": {\"value\": 2}, \"right_units\": \"screen\", \"fill_color\": {\"value\": \"lightgrey\"}}, \"type\": \"BoxAnnotation\", \"id\": \"867c611d-81df-4d41-9bf5-7822c6d3db25\"}, {\"attributes\": {\"callback\": null, \"factors\": [\"a\", \"b\", \"c\", \"d\"]}, \"type\": \"FactorRange\", \"id\": \"3ca5d342-426b-44ee-b222-beda765f6dd2\"}, {\"attributes\": {\"nonselection_glyph\": null, \"data_source\": {\"type\": \"ColumnDataSource\", \"id\": \"c1a584b3-6059-4f5d-9045-bfeb5320885d\"}, \"selection_glyph\": null, \"hover_glyph\": null, \"glyph\": {\"type\": \"Rect\", \"id\": \"1d1c6068-3b81-456a-85ab-2bbf7318905a\"}}, \"type\": \"GlyphRenderer\", \"id\": \"b44d91c7-68e5-4ff5-89bf-b4e081fd1317\"}, {\"attributes\": {\"line_color\": {\"field\": \"line_color\"}, \"fill_color\": {\"field\": \"color\"}, \"fill_alpha\": {\"field\": \"fill_alpha\"}, \"height\": {\"units\": \"data\", \"field\": \"height\"}, \"width\": {\"units\": \"data\", \"field\": \"width\"}, \"y\": {\"field\": \"y\"}, \"x\": {\"field\": \"x\"}}, \"type\": \"Rect\", \"id\": \"dd6b7e7b-e605-418d-936d-9c1d9b430d11\"}, {\"attributes\": {}, \"type\": \"BasicTickFormatter\", \"id\": \"acf8a8b7-b157-4103-a3eb-844b6e2073a1\"}, {\"attributes\": {}, \"type\": \"CategoricalTickFormatter\", \"id\": \"48a07893-dd52-4ede-8cad-3852f54cca02\"}, {\"attributes\": {\"line_color\": {\"field\": \"line_color\"}, \"fill_color\": {\"field\": \"color\"}, \"fill_alpha\": {\"field\": \"fill_alpha\"}, \"height\": {\"units\": \"data\", \"field\": \"height\"}, \"width\": {\"units\": \"data\", \"field\": \"width\"}, \"y\": {\"field\": \"y\"}, \"x\": {\"field\": \"x\"}}, \"type\": \"Rect\", \"id\": \"f0856627-eb3f-4d30-a108-3e0f0812c9a8\"}, {\"attributes\": {\"callback\": null, \"end\": 6.3}, \"type\": \"Range1d\", \"id\": \"4d45d3f1-3a04-4acc-89b9-fb125521e61a\"}, {\"attributes\": {\"plot\": {\"subtype\": \"Chart\", \"type\": \"Plot\", \"id\": \"02ea240b-91d3-4808-9d3c-be1184f9ed66\"}}, \"type\": \"ResetTool\", \"id\": \"ac088586-2767-4a1d-ba93-c57bd8b3ed84\"}, {\"attributes\": {\"x_range\": {\"type\": \"FactorRange\", \"id\": \"eeac8a54-7d42-4570-8c12-b40953ab3ca4\"}, \"y_mapper_type\": \"auto\", \"title_text_font_size\": {\"value\": \"14pt\"}, \"yscale\": \"auto\", \"y_range\": {\"type\": \"Range1d\", \"id\": \"4d45d3f1-3a04-4acc-89b9-fb125521e61a\"}, \"x_mapper_type\": \"auto\", \"renderers\": [{\"type\": \"BoxAnnotation\", \"id\": \"867c611d-81df-4d41-9bf5-7822c6d3db25\"}, {\"type\": \"GlyphRenderer\", \"id\": \"c24dcfc0-0a33-4aa9-adc3-599eed2b4c6c\"}, {\"type\": \"GlyphRenderer\", \"id\": \"4ca2a2d1-f6d6-42fd-9174-fe8e9e5b6d60\"}, {\"type\": \"GlyphRenderer\", \"id\": \"755efabf-4d5f-4de8-965e-77f5a39bdec8\"}, {\"type\": \"GlyphRenderer\", \"id\": \"460e6365-8992-4978-afe9-ff9ce7a8d867\"}, {\"type\": \"CategoricalAxis\", \"id\": \"1d93c7e3-f9d6-4ae9-84c3-39fbf4468162\"}, {\"type\": \"LinearAxis\", \"id\": \"f399b2a6-198c-4cc3-8924-212e826d96db\"}, {\"type\": \"Grid\", \"id\": \"b89371d2-f20a-452d-9fa6-5bd32c4b9984\"}], \"xgrid\": false, \"below\": [{\"type\": \"CategoricalAxis\", \"id\": \"1d93c7e3-f9d6-4ae9-84c3-39fbf4468162\"}], \"tool_events\": {\"type\": \"ToolEvents\", \"id\": \"a19957d2-947a-48b7-a866-63384d5faa9d\"}, \"xscale\": \"auto\", \"tools\": [{\"type\": \"PanTool\", \"id\": \"eecd2590-3e75-4c8f-bcf4-f1d26174ac97\"}, {\"type\": \"WheelZoomTool\", \"id\": \"bd0b36e2-6de7-403e-bc9b-d75194cb1865\"}, {\"type\": \"BoxZoomTool\", \"id\": \"9c2ba6d2-a81a-4140-9ff3-c3c0c39678ed\"}, {\"type\": \"PreviewSaveTool\", \"id\": \"ebc7bcd2-2633-4acd-814f-b99ae42e347d\"}, {\"type\": \"ResizeTool\", \"id\": \"76332cc0-c510-4c6a-ae67-946b47b9f775\"}, {\"type\": \"ResetTool\", \"id\": \"ac088586-2767-4a1d-ba93-c57bd8b3ed84\"}, {\"type\": \"HelpTool\", \"id\": \"7063704a-ceda-49cb-a68f-b4f18ddb03c6\"}], \"legend\": null, \"left\": [{\"type\": \"LinearAxis\", \"id\": \"f399b2a6-198c-4cc3-8924-212e826d96db\"}]}, \"type\": \"Plot\", \"id\": \"02ea240b-91d3-4808-9d3c-be1184f9ed66\", \"subtype\": \"Chart\"}, {\"attributes\": {\"major_label_orientation\": 0.7853981633974483, \"plot\": {\"subtype\": \"Chart\", \"type\": \"Plot\", \"id\": \"49ffa622-16fb-449d-ada1-0789f2210d71\"}, \"axis_label\": \"Names\", \"formatter\": {\"type\": \"CategoricalTickFormatter\", \"id\": \"48a07893-dd52-4ede-8cad-3852f54cca02\"}, \"ticker\": {\"type\": \"CategoricalTicker\", \"id\": \"e76f2eab-f3e3-426e-a602-c6e1e0c526fe\"}}, \"type\": \"CategoricalAxis\", \"id\": \"84b3219f-990a-4cc9-8863-e37d7ab7a2ea\"}, {\"attributes\": {\"callback\": null, \"column_names\": [\"line_color\", \"line_alpha\", \"color\", \"fill_alpha\", \"height\", \"width\", \"y\", \"x\"], \"data\": {\"line_color\": [\"white\"], \"line_alpha\": [1.0], \"chart_index\": [{\"names\": \"b\"}], \"color\": [\"#f22c40\"], \"fill_alpha\": [0.8], \"height\": [1.0], \"width\": [0.8], \"names\": [\"b\"], \"y\": [0.5], \"x\": [\"b\"]}}, \"type\": \"ColumnDataSource\", \"id\": \"5bdb84cf-dd36-402b-b691-be5900e60ed0\"}, {\"attributes\": {\"nonselection_glyph\": null, \"data_source\": {\"type\": \"ColumnDataSource\", \"id\": \"022b2f96-3ad9-44c5-ab25-9ce41c0c7164\"}, \"selection_glyph\": null, \"hover_glyph\": null, \"glyph\": {\"type\": \"Rect\", \"id\": \"ab98e5e0-c410-447e-b6ce-ef2e6bf1b1a3\"}}, \"type\": \"GlyphRenderer\", \"id\": \"857a511b-6280-4d9f-8dac-def225dff234\"}, {\"attributes\": {\"line_color\": {\"field\": \"line_color\"}, \"fill_color\": {\"field\": \"color\"}, \"fill_alpha\": {\"field\": \"fill_alpha\"}, \"height\": {\"units\": \"data\", \"field\": \"height\"}, \"width\": {\"units\": \"data\", \"field\": \"width\"}, \"y\": {\"field\": \"y\"}, \"x\": {\"field\": \"x\"}}, \"type\": \"Rect\", \"id\": \"82b6cc58-d827-4827-a669-5e4f68f4e4dc\"}, {\"attributes\": {\"callback\": null}, \"type\": \"DataRange1d\", \"id\": \"b30c0275-e213-4a97-9e70-2a50f9168444\"}, {\"attributes\": {\"plot\": {\"subtype\": \"Figure\", \"type\": \"Plot\", \"id\": \"3011e6d0-c0d8-42b0-8233-8a0e46b2246a\"}}, \"type\": \"ResetTool\", \"id\": \"595a43c6-fdb3-494a-bb1c-03eb95bc490a\"}, {\"attributes\": {\"plot\": {\"subtype\": \"Chart\", \"type\": \"Plot\", \"id\": \"369be5c2-5539-4f41-986a-5e987cf7fb6a\"}}, \"type\": \"PreviewSaveTool\", \"id\": \"9e9b9c07-f451-402d-9bd6-32d3902d0e79\"}, {\"attributes\": {\"plot\": {\"subtype\": \"Chart\", \"type\": \"Plot\", \"id\": \"49ffa622-16fb-449d-ada1-0789f2210d71\"}}, \"type\": \"HelpTool\", \"id\": \"e8432df4-ad9c-4df2-a221-9a03e1460b93\"}, {\"attributes\": {\"line_color\": {\"field\": \"line_color\"}, \"fill_color\": {\"field\": \"color\"}, \"fill_alpha\": {\"field\": \"fill_alpha\"}, \"height\": {\"units\": \"data\", \"field\": \"height\"}, \"width\": {\"units\": \"data\", \"field\": \"width\"}, \"y\": {\"field\": \"y\"}, \"x\": {\"field\": \"x\"}}, \"type\": \"Rect\", \"id\": \"3b783a35-98e0-4f83-9bc0-5aec74b97b9b\"}]}, \"title\": \"Bokeh Application\"}};\n",
       "            var render_items = [{\"notebook_comms_target\": \"f3bdb87a-0bf6-4fe7-8926-10d54b6f966a\", \"docid\": \"ab497956-bbb9-44a2-a631-828cbc0a253c\", \"elementid\": \"0d95612f-8cec-4d2c-9709-e4972d020f7b\", \"modelid\": \"02ea240b-91d3-4808-9d3c-be1184f9ed66\"}];\n",
       "            \n",
       "            Bokeh.embed.embed_items(docs_json, render_items);\n",
       "        });\n",
       "      },\n",
       "      function(Bokeh) {\n",
       "      }\n",
       "    ];\n",
       "  \n",
       "    function run_inline_js() {\n",
       "      for (var i = 0; i < inline_js.length; i++) {\n",
       "        inline_js[i](window.Bokeh);\n",
       "      }\n",
       "    }\n",
       "  \n",
       "    if (window._bokeh_is_loading === 0) {\n",
       "      console.log(\"Bokeh: BokehJS loaded, going straight to plotting\");\n",
       "      run_inline_js();\n",
       "    } else {\n",
       "      load_libs(js_urls, function() {\n",
       "        console.log(\"Bokeh: BokehJS plotting callback run at\", now());\n",
       "        run_inline_js();\n",
       "      });\n",
       "    }\n",
       "  }(this));\n",
       "</script>"
      ]
     },
     "metadata": {},
     "output_type": "display_data"
    },
    {
     "ename": "ImportError",
     "evalue": "No module named ipykernel.comm",
     "output_type": "error",
     "traceback": [
      "\u001b[1;31m---------------------------------------------------------------------------\u001b[0m",
      "\u001b[1;31mImportError\u001b[0m                               Traceback (most recent call last)",
      "\u001b[1;32m<ipython-input-53-abbde5bc7344>\u001b[0m in \u001b[0;36m<module>\u001b[1;34m()\u001b[0m\n\u001b[0;32m      2\u001b[0m \u001b[1;31m#p = figure(title = \"Most common pages in BMS webview\")\u001b[0m\u001b[1;33m\u001b[0m\u001b[1;33m\u001b[0m\u001b[0m\n\u001b[0;32m      3\u001b[0m \u001b[0mp\u001b[0m \u001b[1;33m=\u001b[0m \u001b[0mBar\u001b[0m\u001b[1;33m(\u001b[0m\u001b[0mpd\u001b[0m\u001b[1;33m.\u001b[0m\u001b[0mDataFrame\u001b[0m\u001b[1;33m(\u001b[0m\u001b[1;33m{\u001b[0m\u001b[1;34m'a'\u001b[0m\u001b[1;33m:\u001b[0m\u001b[1;33m[\u001b[0m\u001b[1;36m3\u001b[0m\u001b[1;33m,\u001b[0m\u001b[1;36m4\u001b[0m\u001b[1;33m,\u001b[0m\u001b[1;36m5\u001b[0m\u001b[1;33m,\u001b[0m\u001b[1;36m6\u001b[0m\u001b[1;33m]\u001b[0m\u001b[1;33m,\u001b[0m\u001b[1;34m'names'\u001b[0m\u001b[1;33m:\u001b[0m\u001b[1;33m[\u001b[0m\u001b[1;34m'a'\u001b[0m\u001b[1;33m,\u001b[0m\u001b[1;34m'b'\u001b[0m\u001b[1;33m,\u001b[0m\u001b[1;34m'c'\u001b[0m\u001b[1;33m,\u001b[0m\u001b[1;34m'd'\u001b[0m\u001b[1;33m]\u001b[0m\u001b[1;33m,\u001b[0m\u001b[1;34m'dfjks'\u001b[0m\u001b[1;33m:\u001b[0m\u001b[1;33m[\u001b[0m\u001b[1;36m5\u001b[0m\u001b[1;33m,\u001b[0m\u001b[1;36m6\u001b[0m\u001b[1;33m,\u001b[0m\u001b[1;36m7\u001b[0m\u001b[1;33m,\u001b[0m\u001b[1;36m8\u001b[0m\u001b[1;33m]\u001b[0m\u001b[1;33m}\u001b[0m\u001b[1;33m)\u001b[0m\u001b[1;33m,\u001b[0m \u001b[0mlabel\u001b[0m \u001b[1;33m=\u001b[0m \u001b[1;34m'names'\u001b[0m\u001b[1;33m,\u001b[0m \u001b[0mvalues\u001b[0m \u001b[1;33m=\u001b[0m\u001b[1;34m'a'\u001b[0m\u001b[1;33m)\u001b[0m\u001b[1;33m\u001b[0m\u001b[0m\n\u001b[1;32m----> 4\u001b[1;33m \u001b[0mshow\u001b[0m\u001b[1;33m(\u001b[0m\u001b[0mp\u001b[0m\u001b[1;33m)\u001b[0m\u001b[1;33m\u001b[0m\u001b[0m\n\u001b[0m",
      "\u001b[1;32mC:\\Anaconda\\lib\\site-packages\\bokeh\\io.py\u001b[0m in \u001b[0;36mshow\u001b[1;34m(obj, browser, new)\u001b[0m\n\u001b[0;32m    277\u001b[0m \u001b[1;33m\u001b[0m\u001b[0m\n\u001b[0;32m    278\u001b[0m     '''\n\u001b[1;32m--> 279\u001b[1;33m     \u001b[1;32mreturn\u001b[0m \u001b[0m_show_with_state\u001b[0m\u001b[1;33m(\u001b[0m\u001b[0mobj\u001b[0m\u001b[1;33m,\u001b[0m \u001b[0m_state\u001b[0m\u001b[1;33m,\u001b[0m \u001b[0mbrowser\u001b[0m\u001b[1;33m,\u001b[0m \u001b[0mnew\u001b[0m\u001b[1;33m)\u001b[0m\u001b[1;33m\u001b[0m\u001b[0m\n\u001b[0m\u001b[0;32m    280\u001b[0m \u001b[1;33m\u001b[0m\u001b[0m\n\u001b[0;32m    281\u001b[0m \u001b[1;32mdef\u001b[0m \u001b[0m_show_with_state\u001b[0m\u001b[1;33m(\u001b[0m\u001b[0mobj\u001b[0m\u001b[1;33m,\u001b[0m \u001b[0mstate\u001b[0m\u001b[1;33m,\u001b[0m \u001b[0mbrowser\u001b[0m\u001b[1;33m,\u001b[0m \u001b[0mnew\u001b[0m\u001b[1;33m)\u001b[0m\u001b[1;33m:\u001b[0m\u001b[1;33m\u001b[0m\u001b[0m\n",
      "\u001b[1;32mC:\\Anaconda\\lib\\site-packages\\bokeh\\io.py\u001b[0m in \u001b[0;36m_show_with_state\u001b[1;34m(obj, state, browser, new)\u001b[0m\n\u001b[0;32m    285\u001b[0m \u001b[1;33m\u001b[0m\u001b[0m\n\u001b[0;32m    286\u001b[0m     \u001b[1;32mif\u001b[0m \u001b[0mstate\u001b[0m\u001b[1;33m.\u001b[0m\u001b[0mnotebook\u001b[0m\u001b[1;33m:\u001b[0m\u001b[1;33m\u001b[0m\u001b[0m\n\u001b[1;32m--> 287\u001b[1;33m         \u001b[0mcomms_handle\u001b[0m \u001b[1;33m=\u001b[0m \u001b[0m_show_notebook_with_state\u001b[0m\u001b[1;33m(\u001b[0m\u001b[0mobj\u001b[0m\u001b[1;33m,\u001b[0m \u001b[0mstate\u001b[0m\u001b[1;33m)\u001b[0m\u001b[1;33m\u001b[0m\u001b[0m\n\u001b[0m\u001b[0;32m    288\u001b[0m \u001b[1;33m\u001b[0m\u001b[0m\n\u001b[0;32m    289\u001b[0m     \u001b[1;32melif\u001b[0m \u001b[0mstate\u001b[0m\u001b[1;33m.\u001b[0m\u001b[0mserver_enabled\u001b[0m\u001b[1;33m:\u001b[0m\u001b[1;33m\u001b[0m\u001b[0m\n",
      "\u001b[1;32mC:\\Anaconda\\lib\\site-packages\\bokeh\\io.py\u001b[0m in \u001b[0;36m_show_notebook_with_state\u001b[1;34m(obj, state)\u001b[0m\n\u001b[0;32m    307\u001b[0m         \u001b[0mcomms_target\u001b[0m \u001b[1;33m=\u001b[0m \u001b[0mstr\u001b[0m\u001b[1;33m(\u001b[0m\u001b[0muuid\u001b[0m\u001b[1;33m.\u001b[0m\u001b[0muuid4\u001b[0m\u001b[1;33m(\u001b[0m\u001b[1;33m)\u001b[0m\u001b[1;33m)\u001b[0m\u001b[1;33m\u001b[0m\u001b[0m\n\u001b[0;32m    308\u001b[0m         \u001b[0mpublish_display_data\u001b[0m\u001b[1;33m(\u001b[0m\u001b[1;33m{\u001b[0m\u001b[1;34m'text/html'\u001b[0m\u001b[1;33m:\u001b[0m \u001b[0mnotebook_div\u001b[0m\u001b[1;33m(\u001b[0m\u001b[0mobj\u001b[0m\u001b[1;33m,\u001b[0m \u001b[0mcomms_target\u001b[0m\u001b[1;33m)\u001b[0m\u001b[1;33m}\u001b[0m\u001b[1;33m)\u001b[0m\u001b[1;33m\u001b[0m\u001b[0m\n\u001b[1;32m--> 309\u001b[1;33m         \u001b[0mhandle\u001b[0m \u001b[1;33m=\u001b[0m \u001b[0m_CommsHandle\u001b[0m\u001b[1;33m(\u001b[0m\u001b[0mget_comms\u001b[0m\u001b[1;33m(\u001b[0m\u001b[0mcomms_target\u001b[0m\u001b[1;33m)\u001b[0m\u001b[1;33m,\u001b[0m \u001b[0mstate\u001b[0m\u001b[1;33m.\u001b[0m\u001b[0mdocument\u001b[0m\u001b[1;33m,\u001b[0m \u001b[0mstate\u001b[0m\u001b[1;33m.\u001b[0m\u001b[0mdocument\u001b[0m\u001b[1;33m.\u001b[0m\u001b[0mto_json\u001b[0m\u001b[1;33m(\u001b[0m\u001b[1;33m)\u001b[0m\u001b[1;33m)\u001b[0m\u001b[1;33m\u001b[0m\u001b[0m\n\u001b[0m\u001b[0;32m    310\u001b[0m         \u001b[0mstate\u001b[0m\u001b[1;33m.\u001b[0m\u001b[0mlast_comms_handle\u001b[0m \u001b[1;33m=\u001b[0m \u001b[0mhandle\u001b[0m\u001b[1;33m\u001b[0m\u001b[0m\n\u001b[0;32m    311\u001b[0m         \u001b[1;32mreturn\u001b[0m \u001b[0mhandle\u001b[0m\u001b[1;33m\u001b[0m\u001b[0m\n",
      "\u001b[1;32mC:\\Anaconda\\lib\\site-packages\\bokeh\\util\\notebook.py\u001b[0m in \u001b[0;36mget_comms\u001b[1;34m(target_name)\u001b[0m\n\u001b[0;32m    105\u001b[0m \u001b[1;33m\u001b[0m\u001b[0m\n\u001b[0;32m    106\u001b[0m     '''\n\u001b[1;32m--> 107\u001b[1;33m     \u001b[1;32mfrom\u001b[0m \u001b[0mipykernel\u001b[0m\u001b[1;33m.\u001b[0m\u001b[0mcomm\u001b[0m \u001b[1;32mimport\u001b[0m \u001b[0mComm\u001b[0m\u001b[1;33m\u001b[0m\u001b[0m\n\u001b[0m\u001b[0;32m    108\u001b[0m     \u001b[1;32mreturn\u001b[0m \u001b[0mComm\u001b[0m\u001b[1;33m(\u001b[0m\u001b[0mtarget_name\u001b[0m\u001b[1;33m=\u001b[0m\u001b[0mtarget_name\u001b[0m\u001b[1;33m,\u001b[0m \u001b[0mdata\u001b[0m\u001b[1;33m=\u001b[0m\u001b[1;33m{\u001b[0m\u001b[1;33m}\u001b[0m\u001b[1;33m)\u001b[0m\u001b[1;33m\u001b[0m\u001b[0m\n\u001b[0;32m    109\u001b[0m \u001b[1;33m\u001b[0m\u001b[0m\n",
      "\u001b[1;31mImportError\u001b[0m: No module named ipykernel.comm"
     ]
    }
   ],
   "source": [
    "from bokeh.charts import Bar, show\n",
    "#p = figure(title = \"Most common pages in BMS webview\")\n",
    "p = Bar(pd.DataFrame({'a':[3,4,5,6],'names':['a','b','c','d'],'dfjks':[5,6,7,8]}), label = 'names', values ='a')\n",
    "show(p)"
   ]
  },
  {
   "cell_type": "code",
   "execution_count": 45,
   "metadata": {
    "collapsed": false
   },
   "outputs": [
    {
     "data": {
      "text/plain": [
       "Counter({1: 14, 3: 10, 2: 9, 4: 8, 6: 8, 15: 7, 8: 6, 22: 6, 24: 6, 5: 5, 12: 5, 13: 5, 14: 5, 7: 5, 10: 4, 67: 4, 77: 4, 90: 4, 58: 4, 410: 4, 9: 3, 16: 3, 23: 3, 38: 3, 87: 3, 92: 3, 94: 3, 101: 3, 110: 3, 152: 3, 43: 3, 11: 2, 19: 2, 20: 2, 25: 2, 27: 2, 33: 2, 40: 2, 47: 2, 56: 2, 63: 2, 64: 2, 65: 2, 70: 2, 73: 2, 587: 2, 78: 2, 80: 2, 93: 2, 96: 2, 105: 2, 109: 2, 113: 2, 128: 2, 129: 2, 145: 2, 148: 2, 164: 2, 167: 2, 173: 2, 187: 2, 204: 2, 207: 2, 230: 2, 232: 2, 233: 2, 240: 2, 211: 2, 251: 2, 260: 2, 272: 2, 797: 2, 294: 2, 297: 2, 319: 2, 345: 2, 209: 2, 407: 2, 411: 2, 439: 2, 440: 2, 448: 2, 512: 1, 2049: 1, 88: 1, 18: 1, 533: 1, 3612: 1, 543: 1, 32: 1, 34: 1, 35: 1, 36: 1, 37: 1, 39: 1, 291: 1, 42: 1, 257: 1, 45: 1, 46: 1, 48: 1, 561: 1, 562: 1, 365: 1, 54: 1, 521: 1, 570: 1, 863: 1, 60: 1, 62: 1, 66: 1, 68: 1, 69: 1, 583: 1, 72: 1, 3658: 1, 79: 1, 81: 1, 82: 1, 83: 1, 84: 1, 85: 1, 86: 1, 600: 1, 1113: 1, 1039: 1, 97: 1, 99: 1, 100: 1, 103: 1, 106: 1, 620: 1, 229: 1, 140: 1, 115: 1, 117: 1, 118: 1, 617: 1, 121: 1, 122: 1, 126: 1, 639: 1, 130: 1, 133: 1, 648: 1, 137: 1, 138: 1, 139: 1, 652: 1, 141: 1, 516: 1, 1167: 1, 149: 1, 150: 1, 151: 1, 153: 1, 1180: 1, 157: 1, 329: 1, 671: 1, 295: 1, 163: 1, 165: 1, 166: 1, 169: 1, 682: 1, 171: 1, 1198: 1, 175: 1, 1201: 1, 690: 1, 627: 1, 180: 1, 181: 1, 182: 1, 201: 1, 696: 1, 185: 1, 186: 1, 189: 1, 1214: 1, 191: 1, 704: 1, 193: 1, 195: 1, 196: 1, 755: 1, 198: 1, 177: 1, 202: 1, 184: 1, 208: 1, 721: 1, 723: 1, 212: 1, 206: 1, 331: 1, 3449: 1, 218: 1, 219: 1, 2268: 1, 221: 1, 222: 1, 223: 1, 736: 1, 379: 1, 553: 1, 178: 1, 234: 1, 235: 1, 2797: 1, 241: 1, 242: 1, 756: 1, 758: 1, 247: 1, 724: 1, 1788: 1, 605: 1, 255: 1, 256: 1, 1793: 1, 264: 1, 779: 1, 267: 1, 781: 1, 273: 1, 275: 1, 278: 1, 2009: 1, 280: 1, 794: 1, 284: 1, 290: 1, 731: 1, 293: 1, 49: 1, 296: 1, 300: 1, 3623: 1, 308: 1, 310: 1, 527: 1, 314: 1, 318: 1, 320: 1, 2371: 1, 328: 1, 396: 1, 1355: 1, 845: 1, 334: 1, 335: 1, 336: 1, 337: 1, 676: 1, 1422: 1, 347: 1, 351: 1, 355: 1, 358: 1, 871: 1, 91: 1, 1389: 1, 377: 1, 890: 1, 891: 1, 383: 1, 386: 1, 388: 1, 389: 1, 1089: 1, 394: 1, 908: 1, 910: 1, 237: 1, 405: 1, 409: 1, 1948: 1, 31: 1, 412: 1, 197: 1, 945: 1, 192: 1, 1267: 1, 436: 1, 158: 1, 438: 1, 244: 1, 159: 1, 89: 1, 449: 1, 1099: 1, 455: 1, 457: 1, 461: 1, 462: 1, 463: 1, 1488: 1, 467: 1, 469: 1, 471: 1, 472: 1, 473: 1, 474: 1, 475: 1, 477: 1, 1616: 1, 483: 1, 485: 1, 486: 1, 1002: 1, 491: 1, 1006: 1, 596: 1, 498: 1, 651: 1, 937: 1, 1017: 1, 143: 1, 511: 1})"
      ]
     },
     "execution_count": 45,
     "metadata": {},
     "output_type": "execute_result"
    }
   ],
   "source": [
    "Counter((Counter(flat_list_of_clicks)).values())"
   ]
  },
  {
   "cell_type": "code",
   "execution_count": null,
   "metadata": {
    "collapsed": true
   },
   "outputs": [],
   "source": []
  }
 ],
 "metadata": {
  "kernelspec": {
   "display_name": "Python 2",
   "language": "python",
   "name": "python2"
  },
  "language_info": {
   "codemirror_mode": {
    "name": "ipython",
    "version": 2
   },
   "file_extension": ".py",
   "mimetype": "text/x-python",
   "name": "python",
   "nbconvert_exporter": "python",
   "pygments_lexer": "ipython2",
   "version": "2.7.11"
  }
 },
 "nbformat": 4,
 "nbformat_minor": 0
}
